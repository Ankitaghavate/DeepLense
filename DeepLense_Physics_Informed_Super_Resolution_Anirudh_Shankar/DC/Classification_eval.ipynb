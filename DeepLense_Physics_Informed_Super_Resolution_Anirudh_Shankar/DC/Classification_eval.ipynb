{
 "cells": [
  {
   "cell_type": "code",
   "execution_count": 1,
   "metadata": {},
   "outputs": [
    {
     "name": "stdout",
     "output_type": "stream",
     "text": [
      "cuda\n"
     ]
    }
   ],
   "source": [
    "import torch\n",
    "import data\n",
    "import tqdm\n",
    "import models\n",
    "import numpy as np\n",
    "import json\n",
    "import matplotlib.pyplot as plt\n",
    "from sklearn.metrics import roc_curve\n",
    "from sklearn.metrics import roc_auc_score\n",
    "device = torch.device(\"cuda\" if torch.cuda.is_available() else \"cpu\")\n",
    "print(device)"
   ]
  },
  {
   "cell_type": "code",
   "execution_count": 2,
   "metadata": {},
   "outputs": [],
   "source": [
    "with open('../config.json') as config_file:\n",
    "    config = json.load(config_file)\n",
    "\n",
    "model_number = 2"
   ]
  },
  {
   "cell_type": "code",
   "execution_count": 3,
   "metadata": {},
   "outputs": [],
   "source": [
    "IN_SHAPE, DELTA = 0, 0\n",
    "if model_number == 1: \n",
    "    IN_SHAPE = 75\n",
    "    DELTA = config[\"resolution\"]\n",
    "elif model_number == 2: \n",
    "    IN_SHAPE = 64\n",
    "    DELTA = config[\"resolution_2\"]\n",
    "else: \n",
    "    IN_SHAPE = 64\n",
    "    DELTA = config[\"resolution_3\"]\n",
    "\n",
    "MAGNIFICATION = config[\"magnification\"]\n",
    "N_MAG = config[\"n_magnification\"]\n",
    "OUT_SHAPE = IN_SHAPE*N_MAG*MAGNIFICATION\n",
    "LR = 1e-4\n",
    "EPOCHS = 20\n",
    "\n",
    "alpha_t_scaling = config[\"alpha_t_scaling_2\"]\n",
    "\n",
    "alpha_bounds = [config[\"alpha_l\"],config[\"alpha_h\"]] # bounds for the deflection angle, used in it's scaling\n",
    "\n",
    "alpha_coeff_1 = torch.tensor(alpha_bounds[1]-alpha_bounds[0]).repeat((OUT_SHAPE)**2).view(1,1,OUT_SHAPE,OUT_SHAPE)\n",
    "alpha_coeff_2 = torch.tensor((alpha_bounds[1]-alpha_bounds[0])*alpha_t_scaling).repeat((OUT_SHAPE)**2).view(1,1,OUT_SHAPE,OUT_SHAPE)\n",
    "\n",
    "alpha_disp_1 = torch.tensor(alpha_bounds[0]).repeat((OUT_SHAPE)**2).view(1,1,OUT_SHAPE,OUT_SHAPE)\n",
    "alpha_disp_2 = torch.tensor(-((alpha_bounds[1]-alpha_bounds[0])*alpha_t_scaling)/2).repeat((OUT_SHAPE)**2).view(1,1,OUT_SHAPE,OUT_SHAPE)\n",
    "\n",
    "def alpha_scaling(alpha):\n",
    "    \"\"\"\n",
    "    Scales the deflection angle obtained from the model to meaningful bounds\n",
    "    \n",
    "    :param alpha: Deflection angle to be scaled\n",
    "    :return: Scaled deflection angle\n",
    "    \"\"\"\n",
    "    alpha = alpha * alpha_coeff_1.repeat(alpha.shape[0],1,1,1).to(alpha.device)\n",
    "    alpha = alpha + alpha_disp_1.repeat(alpha.shape[0],1,1,1).to(alpha.device)\n",
    "    return alpha\n",
    "\n",
    "def alpha_delta_scaling(alpha):\n",
    "    \"\"\"\n",
    "    Scales the deflection angle obtained from the model to meaningful bounds\n",
    "    \n",
    "    :param alpha: Deflection angle to be scaled\n",
    "    :return: Scaled deflection angle\n",
    "    \"\"\"\n",
    "    alpha = alpha * alpha_coeff_2.repeat(alpha.shape[0],1,1,1).to(alpha.device)\n",
    "    alpha = alpha + alpha_disp_2.repeat(alpha.shape[0],1,1,1).to(alpha.device)\n",
    "    return alpha\n",
    "\n",
    "def variation_density_loss(alpha):\n",
    "        diff_x = torch.abs(alpha[:, :, 1:, :] - alpha[:, :, :-1, :])#/((alpha[:, :, 1:, :] + alpha[:, :, :-1, :])/2))\n",
    "        diff_y = torch.abs(alpha[:, :, :, 1:] - alpha[:, :, :, :-1])#/((alpha[:, :, :, 1:] + alpha[:, :, :, :-1])/2))\n",
    "        return torch.sum(diff_x)/(diff_x.shape[2]*diff_x.shape[3]) + torch.sum(diff_y)/(diff_y.shape[2]*diff_y.shape[3])"
   ]
  },
  {
   "cell_type": "code",
   "execution_count": 4,
   "metadata": {},
   "outputs": [],
   "source": [
    "# We can now load the datasets, combine and shuffle them to have a (close to) homogenous distribution of all sub-structures.\n",
    "BATCH_SIZE = 5 # Feel free to increase this number; all the training was done on my personal machine, hence, this limitation/\n",
    "\n",
    "dataset_no_sub = data.LensingDataset('../Simulations/data_model_%d/'%model_number,['no_sub'],5000)\n",
    "train_dataset_no_sub, val_dataset_no_sub = torch.utils.data.random_split(dataset_no_sub, [0.8, 0.2])\n",
    "\n",
    "dataset_axion = data.LensingDataset('../Simulations/data_model_%d/'%model_number,['axion'],5000)\n",
    "train_dataset_axion, val_dataset_axion = torch.utils.data.random_split(dataset_axion, [0.8, 0.2])\n",
    "\n",
    "dataset_cdm = data.LensingDataset('../Simulations/data_model_%d/'%model_number,['cdm'],5000)\n",
    "train_dataset_cdm, val_dataset_cdm = torch.utils.data.random_split(dataset_cdm, [0.8, 0.2])\n",
    "\n",
    "train_dataset = torch.utils.data.ConcatDataset([train_dataset_no_sub, train_dataset_axion, train_dataset_cdm])\n",
    "val_dataset = torch.utils.data.ConcatDataset([val_dataset_no_sub, val_dataset_axion, val_dataset_cdm])\n",
    "\n",
    "train_dataset, train_rest = torch.utils.data.random_split(train_dataset, [0.34, 0.66])\n",
    "val_dataset, val_rest = torch.utils.data.random_split(val_dataset, [0.34, 0.66])\n",
    "\n",
    "train_dataloader = torch.utils.data.DataLoader(train_dataset,shuffle=True,batch_size=BATCH_SIZE,num_workers=15)\n",
    "val_dataloader = torch.utils.data.DataLoader(val_dataset,shuffle=True,batch_size=BATCH_SIZE,num_workers=15)\n",
    "\n",
    "# This configuration will load 5000 (low-resolution) images in total, with a 80:20 validation split. "
   ]
  },
  {
   "cell_type": "code",
   "execution_count": 5,
   "metadata": {},
   "outputs": [],
   "source": [
    "dataset_no_sub_test = data.LensingDataset('../Simulations/data_model_%d/'%model_number,['no_sub'],5000)\n",
    "dataset_axion_test = data.LensingDataset('../Simulations/data_model_%d/'%model_number,['axion'],5000)\n",
    "dataset_cdm_test = data.LensingDataset('../Simulations/data_model_%d/'%model_number,['cdm'],5000)"
   ]
  },
  {
   "cell_type": "code",
   "execution_count": 6,
   "metadata": {},
   "outputs": [
    {
     "name": "stdout",
     "output_type": "stream",
     "text": [
      "Classifier network parameters: 736475\n"
     ]
    }
   ],
   "source": [
    "alpha_delta_model = models.SISR(magnification=MAGNIFICATION, n_mag=N_MAG, residual_depth=config[\"alpha_depth\"], in_channels=1, out_channels=1, latent_channel_count=config[\"latent_channels\"]).to(device)\n",
    "alpha_delta_model.load_state_dict(torch.load('Delta_%d.pt'%(model_number), weights_only=True))\n",
    "alpha_delta_model.eval()\n",
    "classifier = models.Classifier(in_shape=OUT_SHAPE, out_classes=3, model=model_number, in_channels=1).to(device)\n",
    "classifier_criterion = torch.nn.CrossEntropyLoss()\n",
    "opt_classifier = torch.optim.Adam(params=list(classifier.parameters()),lr=LR)\n",
    "\n",
    "classifier_params = sum(p.numel() for p in classifier.parameters())\n",
    "print(f\"Classifier network parameters: {classifier_params}\")"
   ]
  },
  {
   "cell_type": "code",
   "execution_count": 7,
   "metadata": {},
   "outputs": [
    {
     "data": {
      "text/plain": [
       "Classifier(\n",
       "  (conv1): Conv2d(1, 8, kernel_size=(5, 5), stride=(1, 1), padding=(2, 2))\n",
       "  (relu): ReLU()\n",
       "  (b1): Sequential(\n",
       "    (0): Conv2d(8, 8, kernel_size=(3, 3), stride=(1, 1), padding=(1, 1))\n",
       "    (1): ReLU(inplace=True)\n",
       "    (2): Conv2d(8, 8, kernel_size=(3, 3), stride=(1, 1), padding=(1, 1))\n",
       "  )\n",
       "  (conv2): Conv2d(8, 16, kernel_size=(4, 4), stride=(2, 2), padding=(2, 2))\n",
       "  (b2): Sequential(\n",
       "    (0): Conv2d(16, 16, kernel_size=(3, 3), stride=(1, 1), padding=(1, 1))\n",
       "    (1): ReLU(inplace=True)\n",
       "    (2): Conv2d(16, 16, kernel_size=(3, 3), stride=(1, 1), padding=(1, 1))\n",
       "  )\n",
       "  (conv3): Conv2d(16, 24, kernel_size=(4, 4), stride=(2, 2), padding=(2, 2))\n",
       "  (b3): Sequential(\n",
       "    (0): Conv2d(24, 24, kernel_size=(3, 3), stride=(1, 1), padding=(1, 1))\n",
       "    (1): ReLU(inplace=True)\n",
       "    (2): Conv2d(24, 24, kernel_size=(3, 3), stride=(1, 1), padding=(1, 1))\n",
       "  )\n",
       "  (conv4): Conv2d(24, 32, kernel_size=(4, 4), stride=(2, 2), padding=(2, 2))\n",
       "  (b4): Sequential(\n",
       "    (0): Conv2d(32, 32, kernel_size=(3, 3), stride=(1, 1), padding=(1, 1))\n",
       "    (1): ReLU(inplace=True)\n",
       "    (2): Conv2d(32, 32, kernel_size=(3, 3), stride=(1, 1), padding=(1, 1))\n",
       "  )\n",
       "  (conv5): Conv2d(32, 32, kernel_size=(4, 4), stride=(2, 2), padding=(2, 2))\n",
       "  (flatten): Flatten(start_dim=1, end_dim=-1)\n",
       "  (fc1): Linear(in_features=2592, out_features=256, bias=True)\n",
       "  (fc2): Linear(in_features=256, out_features=3, bias=True)\n",
       ")"
      ]
     },
     "execution_count": 7,
     "metadata": {},
     "output_type": "execute_result"
    }
   ],
   "source": [
    "# Performing He initialization of the model weights.\n",
    "\n",
    "def init_weights(m):\n",
    "    \"\"\"\n",
    "    Iterates through all the convolution and fully connected layers of the model to initialize all their weights\n",
    "\n",
    "    :param m: Model to be initialized\n",
    "    \"\"\"\n",
    "    if isinstance(m, torch.nn.Conv2d) or isinstance(m, torch.nn.Linear):\n",
    "        torch.nn.init.kaiming_normal_(m.weight)  # He initialization\n",
    "        if m.bias is not None:\n",
    "            torch.nn.init.constant_(m.bias, 0)\n",
    "\n",
    "classifier.apply(init_weights)"
   ]
  },
  {
   "cell_type": "code",
   "execution_count": 8,
   "metadata": {},
   "outputs": [
    {
     "name": "stderr",
     "output_type": "stream",
     "text": [
      "Training epoch 1: 100%|██████████| 816/816 [00:30<00:00, 26.39it/s]\n"
     ]
    },
    {
     "name": "stdout",
     "output_type": "stream",
     "text": [
      "Training at epoch 1/20: 0.4801891953661563 and acc 0.7708333333333334 at LR=0.0001\n"
     ]
    },
    {
     "name": "stderr",
     "output_type": "stream",
     "text": [
      "Validation epoch 1: 100%|██████████| 204/204 [00:03<00:00, 67.88it/s]\n"
     ]
    },
    {
     "name": "stdout",
     "output_type": "stream",
     "text": [
      "Validation at epoch 1/20: 0.1964921285261345 and acc 0.9254901960784313 at LR=0.0001\n"
     ]
    },
    {
     "name": "stderr",
     "output_type": "stream",
     "text": [
      "Training epoch 2: 100%|██████████| 816/816 [00:30<00:00, 26.53it/s]\n"
     ]
    },
    {
     "name": "stdout",
     "output_type": "stream",
     "text": [
      "Training at epoch 2/20: 0.2455460087904951 and acc 0.904656862745098 at LR=0.0001\n"
     ]
    },
    {
     "name": "stderr",
     "output_type": "stream",
     "text": [
      "Validation epoch 2: 100%|██████████| 204/204 [00:02<00:00, 68.62it/s]\n"
     ]
    },
    {
     "name": "stdout",
     "output_type": "stream",
     "text": [
      "Validation at epoch 2/20: 0.17006543819683 and acc 0.9313725490196079 at LR=0.0001\n"
     ]
    },
    {
     "name": "stderr",
     "output_type": "stream",
     "text": [
      "Training epoch 3: 100%|██████████| 816/816 [00:31<00:00, 26.32it/s]\n"
     ]
    },
    {
     "name": "stdout",
     "output_type": "stream",
     "text": [
      "Training at epoch 3/20: 0.22964653009480304 and acc 0.9107843137254901 at LR=0.0001\n"
     ]
    },
    {
     "name": "stderr",
     "output_type": "stream",
     "text": [
      "Validation epoch 3: 100%|██████████| 204/204 [00:03<00:00, 67.06it/s]\n"
     ]
    },
    {
     "name": "stdout",
     "output_type": "stream",
     "text": [
      "Validation at epoch 3/20: 0.16151792043135227 and acc 0.9431372549019608 at LR=0.0001\n"
     ]
    },
    {
     "name": "stderr",
     "output_type": "stream",
     "text": [
      "Training epoch 4: 100%|██████████| 816/816 [00:31<00:00, 25.62it/s]\n"
     ]
    },
    {
     "name": "stdout",
     "output_type": "stream",
     "text": [
      "Training at epoch 4/20: 0.21392492231297736 and acc 0.9188725490196078 at LR=0.0001\n"
     ]
    },
    {
     "name": "stderr",
     "output_type": "stream",
     "text": [
      "Validation epoch 4: 100%|██████████| 204/204 [00:03<00:00, 65.45it/s]\n"
     ]
    },
    {
     "name": "stdout",
     "output_type": "stream",
     "text": [
      "Validation at epoch 4/20: 0.19150814083952675 and acc 0.9284313725490196 at LR=0.0001\n"
     ]
    },
    {
     "name": "stderr",
     "output_type": "stream",
     "text": [
      "Training epoch 5: 100%|██████████| 816/816 [00:32<00:00, 24.87it/s]\n"
     ]
    },
    {
     "name": "stdout",
     "output_type": "stream",
     "text": [
      "Training at epoch 5/20: 0.21055788713662574 and acc 0.9237745098039216 at LR=0.0001\n"
     ]
    },
    {
     "name": "stderr",
     "output_type": "stream",
     "text": [
      "Validation epoch 5: 100%|██████████| 204/204 [00:03<00:00, 64.76it/s]\n"
     ]
    },
    {
     "name": "stdout",
     "output_type": "stream",
     "text": [
      "Validation at epoch 5/20: 0.17510892541773215 and acc 0.9303921568627451 at LR=0.0001\n"
     ]
    },
    {
     "name": "stderr",
     "output_type": "stream",
     "text": [
      "Training epoch 6: 100%|██████████| 816/816 [00:33<00:00, 24.70it/s]\n"
     ]
    },
    {
     "name": "stdout",
     "output_type": "stream",
     "text": [
      "Training at epoch 6/20: 0.19472154517055007 and acc 0.9299019607843136 at LR=0.0001\n"
     ]
    },
    {
     "name": "stderr",
     "output_type": "stream",
     "text": [
      "Validation epoch 6: 100%|██████████| 204/204 [00:03<00:00, 64.68it/s]\n"
     ]
    },
    {
     "name": "stdout",
     "output_type": "stream",
     "text": [
      "Validation at epoch 6/20: 0.16346524907082008 and acc 0.9392156862745098 at LR=0.0001\n"
     ]
    },
    {
     "name": "stderr",
     "output_type": "stream",
     "text": [
      "Training epoch 7: 100%|██████████| 816/816 [00:33<00:00, 24.54it/s]\n"
     ]
    },
    {
     "name": "stdout",
     "output_type": "stream",
     "text": [
      "Training at epoch 7/20: 0.17776622741896028 and acc 0.9333333333333333 at LR=0.0001\n"
     ]
    },
    {
     "name": "stderr",
     "output_type": "stream",
     "text": [
      "Validation epoch 7: 100%|██████████| 204/204 [00:03<00:00, 63.43it/s]\n"
     ]
    },
    {
     "name": "stdout",
     "output_type": "stream",
     "text": [
      "Validation at epoch 7/20: 0.1928976868215364 and acc 0.9294117647058823 at LR=0.0001\n"
     ]
    },
    {
     "name": "stderr",
     "output_type": "stream",
     "text": [
      "Training epoch 8: 100%|██████████| 816/816 [00:33<00:00, 24.33it/s]\n"
     ]
    },
    {
     "name": "stdout",
     "output_type": "stream",
     "text": [
      "Training at epoch 8/20: 0.1766011461373173 and acc 0.9379901960784315 at LR=0.0001\n"
     ]
    },
    {
     "name": "stderr",
     "output_type": "stream",
     "text": [
      "Validation epoch 8: 100%|██████████| 204/204 [00:03<00:00, 63.93it/s]\n"
     ]
    },
    {
     "name": "stdout",
     "output_type": "stream",
     "text": [
      "Validation at epoch 8/20: 0.21413339332531334 and acc 0.9294117647058825 at LR=0.0001\n"
     ]
    },
    {
     "name": "stderr",
     "output_type": "stream",
     "text": [
      "Training epoch 9: 100%|██████████| 816/816 [00:33<00:00, 24.17it/s]\n"
     ]
    },
    {
     "name": "stdout",
     "output_type": "stream",
     "text": [
      "Training at epoch 9/20: 0.15950467217490036 and acc 0.9433823529411766 at LR=0.0001\n"
     ]
    },
    {
     "name": "stderr",
     "output_type": "stream",
     "text": [
      "Validation epoch 9: 100%|██████████| 204/204 [00:03<00:00, 62.56it/s]\n"
     ]
    },
    {
     "name": "stdout",
     "output_type": "stream",
     "text": [
      "Validation at epoch 9/20: 0.1658151596787445 and acc 0.9343137254901962 at LR=0.0001\n"
     ]
    },
    {
     "name": "stderr",
     "output_type": "stream",
     "text": [
      "Training epoch 10: 100%|██████████| 816/816 [00:33<00:00, 24.01it/s]\n"
     ]
    },
    {
     "name": "stdout",
     "output_type": "stream",
     "text": [
      "Training at epoch 10/20: 0.15062743426755795 and acc 0.9424019607843137 at LR=0.0001\n"
     ]
    },
    {
     "name": "stderr",
     "output_type": "stream",
     "text": [
      "Validation epoch 10: 100%|██████████| 204/204 [00:03<00:00, 62.70it/s]\n"
     ]
    },
    {
     "name": "stdout",
     "output_type": "stream",
     "text": [
      "Validation at epoch 10/20: 0.16649624700512147 and acc 0.9333333333333333 at LR=0.0001\n"
     ]
    },
    {
     "name": "stderr",
     "output_type": "stream",
     "text": [
      "Training epoch 11: 100%|██████████| 816/816 [00:34<00:00, 23.76it/s]\n"
     ]
    },
    {
     "name": "stdout",
     "output_type": "stream",
     "text": [
      "Training at epoch 11/20: 0.13649834432544594 and acc 0.9519607843137254 at LR=0.0001\n"
     ]
    },
    {
     "name": "stderr",
     "output_type": "stream",
     "text": [
      "Validation epoch 11: 100%|██████████| 204/204 [00:03<00:00, 63.05it/s]\n"
     ]
    },
    {
     "name": "stdout",
     "output_type": "stream",
     "text": [
      "Validation at epoch 11/20: 0.24759337775222043 and acc 0.9196078431372547 at LR=0.0001\n"
     ]
    },
    {
     "name": "stderr",
     "output_type": "stream",
     "text": [
      "Training epoch 12: 100%|██████████| 816/816 [00:34<00:00, 23.75it/s]\n"
     ]
    },
    {
     "name": "stdout",
     "output_type": "stream",
     "text": [
      "Training at epoch 12/20: 0.13177812856020846 and acc 0.9458333333333333 at LR=0.0001\n"
     ]
    },
    {
     "name": "stderr",
     "output_type": "stream",
     "text": [
      "Validation epoch 12: 100%|██████████| 204/204 [00:03<00:00, 62.02it/s]\n"
     ]
    },
    {
     "name": "stdout",
     "output_type": "stream",
     "text": [
      "Validation at epoch 12/20: 0.17470509184675073 and acc 0.9313725490196079 at LR=0.0001\n"
     ]
    },
    {
     "name": "stderr",
     "output_type": "stream",
     "text": [
      "Training epoch 13: 100%|██████████| 816/816 [00:34<00:00, 23.92it/s]\n"
     ]
    },
    {
     "name": "stdout",
     "output_type": "stream",
     "text": [
      "Training at epoch 13/20: 0.11339758368809295 and acc 0.9602941176470589 at LR=0.0001\n"
     ]
    },
    {
     "name": "stderr",
     "output_type": "stream",
     "text": [
      "Validation epoch 13: 100%|██████████| 204/204 [00:03<00:00, 62.72it/s]\n"
     ]
    },
    {
     "name": "stdout",
     "output_type": "stream",
     "text": [
      "Validation at epoch 13/20: 0.1747925293752547 and acc 0.938235294117647 at LR=0.0001\n"
     ]
    },
    {
     "name": "stderr",
     "output_type": "stream",
     "text": [
      "Training epoch 14: 100%|██████████| 816/816 [00:34<00:00, 23.80it/s]\n"
     ]
    },
    {
     "name": "stdout",
     "output_type": "stream",
     "text": [
      "Training at epoch 14/20: 0.10641532138601285 and acc 0.9585784313725491 at LR=0.0001\n"
     ]
    },
    {
     "name": "stderr",
     "output_type": "stream",
     "text": [
      "Validation epoch 14: 100%|██████████| 204/204 [00:03<00:00, 62.68it/s]\n"
     ]
    },
    {
     "name": "stdout",
     "output_type": "stream",
     "text": [
      "Validation at epoch 14/20: 0.18058202091282616 and acc 0.9343137254901961 at LR=0.0001\n"
     ]
    },
    {
     "name": "stderr",
     "output_type": "stream",
     "text": [
      "Training epoch 15: 100%|██████████| 816/816 [00:34<00:00, 23.93it/s]\n"
     ]
    },
    {
     "name": "stdout",
     "output_type": "stream",
     "text": [
      "Training at epoch 15/20: 0.0882242748152191 and acc 0.9693627450980392 at LR=0.0001\n"
     ]
    },
    {
     "name": "stderr",
     "output_type": "stream",
     "text": [
      "Validation epoch 15: 100%|██████████| 204/204 [00:03<00:00, 62.46it/s]\n"
     ]
    },
    {
     "name": "stdout",
     "output_type": "stream",
     "text": [
      "Validation at epoch 15/20: 0.25884499834980007 and acc 0.918627450980392 at LR=0.0001\n"
     ]
    },
    {
     "name": "stderr",
     "output_type": "stream",
     "text": [
      "Training epoch 16: 100%|██████████| 816/816 [00:34<00:00, 23.83it/s]\n"
     ]
    },
    {
     "name": "stdout",
     "output_type": "stream",
     "text": [
      "Training at epoch 16/20: 0.07903220515964625 and acc 0.9688725490196081 at LR=0.0001\n"
     ]
    },
    {
     "name": "stderr",
     "output_type": "stream",
     "text": [
      "Validation epoch 16: 100%|██████████| 204/204 [00:03<00:00, 63.34it/s]\n"
     ]
    },
    {
     "name": "stdout",
     "output_type": "stream",
     "text": [
      "Validation at epoch 16/20: 0.21596837116342113 and acc 0.9313725490196079 at LR=0.0001\n"
     ]
    },
    {
     "name": "stderr",
     "output_type": "stream",
     "text": [
      "Training epoch 17: 100%|██████████| 816/816 [00:34<00:00, 23.73it/s]\n"
     ]
    },
    {
     "name": "stdout",
     "output_type": "stream",
     "text": [
      "Training at epoch 17/20: 0.0701473060405664 and acc 0.9740196078431372 at LR=0.0001\n"
     ]
    },
    {
     "name": "stderr",
     "output_type": "stream",
     "text": [
      "Validation epoch 17: 100%|██████████| 204/204 [00:03<00:00, 61.48it/s]\n"
     ]
    },
    {
     "name": "stdout",
     "output_type": "stream",
     "text": [
      "Validation at epoch 17/20: 0.2815344252528999 and acc 0.9274509803921568 at LR=0.0001\n"
     ]
    },
    {
     "name": "stderr",
     "output_type": "stream",
     "text": [
      "Training epoch 18: 100%|██████████| 816/816 [00:34<00:00, 23.79it/s]\n"
     ]
    },
    {
     "name": "stdout",
     "output_type": "stream",
     "text": [
      "Training at epoch 18/20: 0.06497392777600208 and acc 0.9747549019607844 at LR=0.0001\n"
     ]
    },
    {
     "name": "stderr",
     "output_type": "stream",
     "text": [
      "Validation epoch 18: 100%|██████████| 204/204 [00:03<00:00, 62.42it/s]\n"
     ]
    },
    {
     "name": "stdout",
     "output_type": "stream",
     "text": [
      "Validation at epoch 18/20: 0.2102789554722703 and acc 0.9264705882352942 at LR=0.0001\n"
     ]
    },
    {
     "name": "stderr",
     "output_type": "stream",
     "text": [
      "Training epoch 19: 100%|██████████| 816/816 [00:34<00:00, 23.67it/s]\n"
     ]
    },
    {
     "name": "stdout",
     "output_type": "stream",
     "text": [
      "Training at epoch 19/20: 0.04910916582811416 and acc 0.9816176470588235 at LR=0.0001\n"
     ]
    },
    {
     "name": "stderr",
     "output_type": "stream",
     "text": [
      "Validation epoch 19: 100%|██████████| 204/204 [00:03<00:00, 61.55it/s]\n"
     ]
    },
    {
     "name": "stdout",
     "output_type": "stream",
     "text": [
      "Validation at epoch 19/20: 0.2126343532786837 and acc 0.9284313725490196 at LR=0.0001\n"
     ]
    },
    {
     "name": "stderr",
     "output_type": "stream",
     "text": [
      "Training epoch 20: 100%|██████████| 816/816 [00:34<00:00, 23.40it/s]\n"
     ]
    },
    {
     "name": "stdout",
     "output_type": "stream",
     "text": [
      "Training at epoch 20/20: 0.03601775570281661 and acc 0.986764705882353 at LR=0.0001\n"
     ]
    },
    {
     "name": "stderr",
     "output_type": "stream",
     "text": [
      "Validation epoch 20: 100%|██████████| 204/204 [00:03<00:00, 58.96it/s]"
     ]
    },
    {
     "name": "stdout",
     "output_type": "stream",
     "text": [
      "Validation at epoch 20/20: 0.26316901996253306 and acc 0.9362745098039216 at LR=0.0001\n"
     ]
    },
    {
     "name": "stderr",
     "output_type": "stream",
     "text": [
      "\n"
     ]
    }
   ],
   "source": [
    "# Training Sequence\n",
    "\n",
    "best_val_loss = np.inf\n",
    "best_weights = None\n",
    "best_delta_weights = None\n",
    "history = {'c_loss':[], 'c_val_loss':[], 'accs':[], 'val_accs':[]} # tracks the train and val losses and training results at each epoch\n",
    "for epoch in range(EPOCHS):\n",
    "    classifier_losses = []\n",
    "    accs = []\n",
    "    classifier.train()\n",
    "    for i,(x, label) in enumerate(tqdm.tqdm(train_dataloader, desc=f\"Training epoch {epoch+1}\")):\n",
    "        (x, label) = (x.float().to(device), label.to(device))\n",
    "        alpha_delta = alpha_delta_model(x)\n",
    "        alpha_delta = alpha_delta_scaling(alpha_delta)\n",
    "        class_prediction = classifier(alpha_delta)\n",
    "        classifier_loss = classifier_criterion(class_prediction, label)\n",
    "        opt_classifier.zero_grad()\n",
    "        classifier_loss.backward()\n",
    "        opt_classifier.step()\n",
    "        classifier_losses.append(float(classifier_loss))\n",
    "        prediction_indices = torch.argmax(class_prediction, 1)\n",
    "        acc = float(torch.sum(label == prediction_indices))/float(len(label))\n",
    "        accs.append(float(acc))\n",
    "    print(f\"Training at epoch {epoch+1}/{EPOCHS}: {np.mean(classifier_losses)} and acc {np.mean(accs)} at LR={opt_classifier.param_groups[0]['lr']}\")\n",
    "    history['c_loss'].append(np.mean(classifier_losses))\n",
    "    history['accs'].append(np.mean(accs))\n",
    "\n",
    "    classifier.eval()\n",
    "    classifier_losses = []\n",
    "    accs = []\n",
    "    for i,(x, label) in enumerate(tqdm.tqdm(val_dataloader, desc=f\"Validation epoch {epoch+1}\")):\n",
    "        (x, label) = (x.float().to(device), label.to(device))\n",
    "        alpha_delta = alpha_delta_model(x)\n",
    "        alpha_delta = alpha_delta_scaling(alpha_delta)\n",
    "        class_prediction = classifier(alpha_delta)\n",
    "        classifier_loss = classifier_criterion(class_prediction, label)\n",
    "        classifier_losses.append(float(classifier_loss))\n",
    "        prediction_indices = torch.argmax(class_prediction, 1)\n",
    "        acc = float(torch.sum(label == prediction_indices))/float(len(label))\n",
    "        accs.append(float(acc))\n",
    "    if best_val_loss > np.mean(classifier_losses):\n",
    "        best_val_loss = np.mean(classifier_losses)\n",
    "        best_weights = classifier.state_dict()\n",
    "    history['c_val_loss'].append(np.mean(classifier_losses))\n",
    "    history['val_accs'].append(np.mean(accs))\n",
    "    print(f\"Validation at epoch {epoch+1}/{EPOCHS}: {np.mean(classifier_losses)} and acc {np.mean(accs)} at LR={opt_classifier.param_groups[0]['lr']}\")"
   ]
  },
  {
   "cell_type": "code",
   "execution_count": 9,
   "metadata": {},
   "outputs": [
    {
     "data": {
      "text/plain": [
       "<All keys matched successfully>"
      ]
     },
     "execution_count": 9,
     "metadata": {},
     "output_type": "execute_result"
    }
   ],
   "source": [
    "classifier.load_state_dict(best_weights)"
   ]
  },
  {
   "cell_type": "code",
   "execution_count": 10,
   "metadata": {},
   "outputs": [
    {
     "name": "stderr",
     "output_type": "stream",
     "text": [
      "Evaluating CDM sub-structure images: 100%|██████████| 5000/5000 [00:21<00:00, 227.29it/s]\n",
      "Evaluating no sub-structure images: 100%|██████████| 5000/5000 [00:21<00:00, 236.29it/s]\n",
      "Evaluating axion DM sub-structure images: 100%|██████████| 5000/5000 [00:22<00:00, 224.84it/s]\n"
     ]
    }
   ],
   "source": [
    "history_no_sub = {'no_sub':0,'axion':0, 'cdm':0}\n",
    "history_axion = {'no_sub':0,'axion':0, 'cdm':0}\n",
    "history_cdm = {'no_sub':0,'axion':0, 'cdm':0}\n",
    "preds, probs, ys = [], [], []\n",
    "worst_case = 0\n",
    "best_case = 0\n",
    "mid_case = 0\n",
    "extra = 0\n",
    "\n",
    "classifier.eval()\n",
    "for i in tqdm.tqdm(range(len(dataset_no_sub_test)),desc=\"Evaluating CDM sub-structure images\"):\n",
    "    x, label = dataset_no_sub_test[i]\n",
    "    alpha_delta = alpha_delta_model(x.float().to(device).unsqueeze(dim=0))\n",
    "    alpha_delta = alpha_delta_scaling(alpha_delta)\n",
    "    class_prediction = classifier(alpha_delta)\n",
    "    pred = torch.argmax(class_prediction, 1)\n",
    "    probabilities = torch.softmax(class_prediction, dim=1)\n",
    "    ys = ys + [label]\n",
    "    preds = preds + list(pred.detach().cpu().numpy())\n",
    "    probs = probs + list(probabilities.detach().cpu().numpy())\n",
    "    if pred == 0:\n",
    "        history_no_sub['no_sub'] += 1\n",
    "    elif pred == 1:\n",
    "        history_no_sub['axion'] += 1\n",
    "    elif pred == 2:\n",
    "        history_no_sub['cdm'] += 1\n",
    "\n",
    "for i in tqdm.tqdm(range(len(dataset_no_sub_test)),desc=\"Evaluating no sub-structure images\"):\n",
    "    x, label = dataset_axion_test[i]\n",
    "    alpha_delta = alpha_delta_model(x.float().to(device).unsqueeze(dim=0))\n",
    "    alpha_delta = alpha_delta_scaling(alpha_delta)\n",
    "    class_prediction = classifier(alpha_delta)\n",
    "    pred = torch.argmax(class_prediction, 1)\n",
    "    probabilities = torch.softmax(class_prediction, dim=1)\n",
    "    ys = ys + [label]\n",
    "    preds = preds + list(pred.detach().cpu().numpy())\n",
    "    probs = probs + list(probabilities.detach().cpu().numpy())\n",
    "    if pred == 0:\n",
    "        history_axion['no_sub'] += 1\n",
    "    elif pred == 1:\n",
    "        history_axion['axion'] += 1\n",
    "    elif pred == 2:\n",
    "        history_axion['cdm'] += 1\n",
    "\n",
    "for i in tqdm.tqdm(range(len(dataset_no_sub_test)),desc=\"Evaluating axion DM sub-structure images\"):\n",
    "    x, label = dataset_cdm_test[i]\n",
    "    alpha_delta = alpha_delta_model(x.float().to(device).unsqueeze(dim=0))\n",
    "    alpha_delta = alpha_delta_scaling(alpha_delta)\n",
    "    class_prediction = classifier(alpha_delta)\n",
    "    pred = torch.argmax(class_prediction, 1)\n",
    "    probabilities = torch.softmax(class_prediction, dim=1)\n",
    "    ys = ys + [label]\n",
    "    preds = preds + list(pred.detach().cpu().numpy())\n",
    "    probs = probs + list(probabilities.detach().cpu().numpy())\n",
    "    if pred == 0:\n",
    "        history_cdm['no_sub'] += 1\n",
    "    elif pred == 1:\n",
    "        history_cdm['axion'] += 1\n",
    "    elif pred == 2:\n",
    "        history_cdm['cdm'] += 1"
   ]
  },
  {
   "cell_type": "code",
   "execution_count": 11,
   "metadata": {},
   "outputs": [
    {
     "name": "stdout",
     "output_type": "stream",
     "text": [
      "+--------+--------+-------+------+\n",
      "|        | no_sub | axion | cdm  |\n",
      "+--------+--------+-------+------+\n",
      "| no_sub |  4924  |   1   |  75  |\n",
      "| axion  |   1    |  4651 | 348  |\n",
      "|  cdm   |  192   |  320  | 4488 |\n",
      "+--------+--------+-------+------+\n"
     ]
    }
   ],
   "source": [
    "from prettytable import PrettyTable\n",
    "\n",
    "pt = PrettyTable(['', 'no_sub', 'axion', 'cdm'])\n",
    "pt.add_row(['no_sub',history_no_sub['no_sub'],history_no_sub['axion'],history_no_sub['cdm']])\n",
    "pt.add_row(['axion',history_axion['no_sub'],history_axion['axion'],history_axion['cdm']])\n",
    "pt.add_row(['cdm',history_cdm['no_sub'],history_cdm['axion'],history_cdm['cdm']])\n",
    "print(pt)"
   ]
  },
  {
   "cell_type": "code",
   "execution_count": 12,
   "metadata": {},
   "outputs": [
    {
     "data": {
      "image/png": "[encoded data removed]",
      "text/plain": [
       "<Figure size 640x480 with 2 Axes>"
      ]
     },
     "metadata": {},
     "output_type": "display_data"
    }
   ],
   "source": [
    "import pandas as pd\n",
    "import seaborn as sn\n",
    "conf_mat = [[history_no_sub['no_sub'],history_no_sub['axion'],history_no_sub['cdm']],\n",
    "            [history_axion['no_sub'],history_axion['axion'],history_axion['cdm']],\n",
    "            [history_cdm['no_sub'],history_cdm['axion'],history_cdm['cdm']]]\n",
    "df_cm = pd.DataFrame(conf_mat, ['no_sub','axion','cdm'], ['no_sub','axion','cdm'])\n",
    "\n",
    "# plt.figure(figsize=(10,7))\n",
    "sn.set(font_scale=1.4) # for label size\n",
    "sn.heatmap(df_cm, annot=True, annot_kws={\"size\": 16}) # font size\n",
    "\n",
    "plt.show()"
   ]
  },
  {
   "cell_type": "code",
   "execution_count": 13,
   "metadata": {},
   "outputs": [],
   "source": [
    "for i in range(len(ys)):\n",
    "    if probs[i][ys[i]] == np.min(probs[i]): worst_case += 1\n",
    "    elif ys[i] == preds[i]: best_case += 1\n",
    "    elif probs[i][ys[i]] == sorted(probs[i])[1]: mid_case += 1\n",
    "    else: extra += 1"
   ]
  },
  {
   "cell_type": "code",
   "execution_count": 14,
   "metadata": {},
   "outputs": [],
   "source": [
    "ns_curves = []\n",
    "lr_curves = []\n",
    "aucs = []\n",
    "for i in range(3):\n",
    "    y_ = []\n",
    "    probs_ = []\n",
    "    for j in range(len(preds)):\n",
    "        if i==ys[j] and ys[j]==preds[j]:\n",
    "            y_.append(1)\n",
    "        else: y_.append(0)\n",
    "        probs_.append(probs[j][i])\n",
    "    ns_probs = np.array([1/len(probs_) for __ in range(len(probs_))])\n",
    "    ns_auc = roc_auc_score(y_, ns_probs,multi_class='ovr')\n",
    "    lr_auc = roc_auc_score(y_, probs_,multi_class='ovr')\n",
    "    aucs.append((ns_auc,lr_auc))\n",
    "\n",
    "    ns_fpr, ns_tpr, _ = roc_curve(y_, np.array([0 for i in range(len(y_))]))\n",
    "    lr_fpr, lr_tpr, _ = roc_curve(y_, probs_)\n",
    "    ns_curves.append((ns_fpr, ns_tpr))\n",
    "    lr_curves.append((lr_fpr, lr_tpr))"
   ]
  },
  {
   "cell_type": "code",
   "execution_count": 15,
   "metadata": {},
   "outputs": [
    {
     "data": {
      "image/png": "[encoded data removed]",
      "text/plain": [
       "<Figure size 640x480 with 1 Axes>"
      ]
     },
     "metadata": {},
     "output_type": "display_data"
    },
    {
     "name": "stdout",
     "output_type": "stream",
     "text": [
      "Correct identifications: 0.9375333333333333\n",
      "True had least prob: 0.00046666666666666666\n",
      "True had 2nd highest prob: 0.062\n",
      "Sum for verification = 1.0\n"
     ]
    }
   ],
   "source": [
    "classes = ['no_sub','axion','cdm']\n",
    "for i in range(3):\n",
    "    plt.plot(lr_curves[i][0], lr_curves[i][1], marker='.', label='%s substructure: %.3f'%(classes[i],aucs[i][1]))\n",
    "plt.plot(ns_curves[0][0], ns_curves[0][1], linestyle='--', label='No Skill: %.3f'%(aucs[0][0]))\n",
    "# axis labels\n",
    "plt.xlabel('False Positive Rate')\n",
    "plt.ylabel('True Positive Rate')\n",
    "# show the legend\n",
    "plt.legend()\n",
    "# show the plot\n",
    "plt.show()\n",
    "print(\"Correct identifications: %s\\nTrue had least prob: %s\\nTrue had 2nd highest prob: %s\\nSum for verification = %s\"%(best_case/len(ys),worst_case/len(ys),mid_case/len(ys),(best_case+worst_case+mid_case)/len(ys)))"
   ]
  },
  {
   "cell_type": "code",
   "execution_count": 16,
   "metadata": {},
   "outputs": [
    {
     "data": {
      "text/plain": [
       "'\\nModel 2:\\n+--------+--------+-------+------+\\n|        | no_sub | axion | cdm  |\\n+--------+--------+-------+------+\\n| no_sub |  4936  |   0   |  64  |\\n| axion  |   0    |  4303 | 697  |\\n|  cdm   |  257   |  126  | 4617 |\\n+--------+--------+-------+------+\\n\\nModel 3:\\n+--------+--------+-------+------+\\n|        | no_sub | axion | cdm  |\\n+--------+--------+-------+------+\\n| no_sub |  4942  |   0   |  58  |\\n| axion  |   2    |  4487 | 511  |\\n|  cdm   |  299   |  216  | 4485 |\\n+--------+--------+-------+------+\\n'"
      ]
     },
     "execution_count": 16,
     "metadata": {},
     "output_type": "execute_result"
    }
   ],
   "source": [
    "\"\"\"\n",
    "Model 2:\n",
    "+--------+--------+-------+------+\n",
    "|        | no_sub | axion | cdm  |\n",
    "+--------+--------+-------+------+\n",
    "| no_sub |  4936  |   0   |  64  |\n",
    "| axion  |   0    |  4303 | 697  |\n",
    "|  cdm   |  257   |  126  | 4617 |\n",
    "+--------+--------+-------+------+\n",
    "\n",
    "Model 3:\n",
    "+--------+--------+-------+------+\n",
    "|        | no_sub | axion | cdm  |\n",
    "+--------+--------+-------+------+\n",
    "| no_sub |  4942  |   0   |  58  |\n",
    "| axion  |   2    |  4487 | 511  |\n",
    "|  cdm   |  299   |  216  | 4485 |\n",
    "+--------+--------+-------+------+\n",
    "\"\"\""
   ]
  }
 ],
 "metadata": {
  "kernelspec": {
   "display_name": ".env",
   "language": "python",
   "name": "python3"
  },
  "language_info": {
   "codemirror_mode": {
    "name": "ipython",
    "version": 3
   },
   "file_extension": ".py",
   "mimetype": "text/x-python",
   "name": "python",
   "nbconvert_exporter": "python",
   "pygments_lexer": "ipython3",
   "version": "3.10.12"
  }
 },
 "nbformat": 4,
 "nbformat_minor": 2
}
