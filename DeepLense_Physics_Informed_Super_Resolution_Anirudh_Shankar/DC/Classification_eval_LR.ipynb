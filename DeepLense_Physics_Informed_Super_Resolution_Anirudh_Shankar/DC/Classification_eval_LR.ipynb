{
 "cells": [
  {
   "cell_type": "code",
   "execution_count": 1,
   "metadata": {},
   "outputs": [
    {
     "name": "stdout",
     "output_type": "stream",
     "text": [
      "cuda\n"
     ]
    }
   ],
   "source": [
    "import torch\n",
    "import data\n",
    "import tqdm\n",
    "import models\n",
    "import numpy as np\n",
    "import json\n",
    "import matplotlib.pyplot as plt\n",
    "from sklearn.metrics import roc_curve\n",
    "from sklearn.metrics import roc_auc_score\n",
    "device = torch.device(\"cuda\" if torch.cuda.is_available() else \"cpu\")\n",
    "print(device)"
   ]
  },
  {
   "cell_type": "code",
   "execution_count": 2,
   "metadata": {},
   "outputs": [],
   "source": [
    "with open('../config.json') as config_file:\n",
    "    config = json.load(config_file)\n",
    "\n",
    "model_number = 3"
   ]
  },
  {
   "cell_type": "code",
   "execution_count": 3,
   "metadata": {},
   "outputs": [],
   "source": [
    "IN_SHAPE, DELTA = 0, 0\n",
    "if model_number == 1: \n",
    "    IN_SHAPE = 75\n",
    "    DELTA = config[\"resolution\"]\n",
    "elif model_number == 2: \n",
    "    IN_SHAPE = 64\n",
    "    DELTA = config[\"resolution_2\"]\n",
    "else: \n",
    "    IN_SHAPE = 64\n",
    "    DELTA = config[\"resolution_3\"]\n",
    "\n",
    "MAGNIFICATION = config[\"magnification\"]\n",
    "N_MAG = config[\"n_magnification\"]\n",
    "OUT_SHAPE = IN_SHAPE*N_MAG*MAGNIFICATION\n",
    "LR = 1e-4\n",
    "EPOCHS = 30\n",
    "\n",
    "alpha_t_scaling = config[\"alpha_t_scaling_2\"]\n",
    "\n",
    "alpha_bounds = [config[\"alpha_l\"],config[\"alpha_h\"]] # bounds for the deflection angle, used in it's scaling\n",
    "\n",
    "alpha_coeff_1 = torch.tensor(alpha_bounds[1]-alpha_bounds[0]).repeat((OUT_SHAPE)**2).view(1,1,OUT_SHAPE,OUT_SHAPE)\n",
    "alpha_coeff_2 = torch.tensor((alpha_bounds[1]-alpha_bounds[0])*alpha_t_scaling).repeat((OUT_SHAPE)**2).view(1,1,OUT_SHAPE,OUT_SHAPE)\n",
    "\n",
    "alpha_disp_1 = torch.tensor(alpha_bounds[0]).repeat((OUT_SHAPE)**2).view(1,1,OUT_SHAPE,OUT_SHAPE)\n",
    "alpha_disp_2 = torch.tensor(-((alpha_bounds[1]-alpha_bounds[0])*alpha_t_scaling)/2).repeat((OUT_SHAPE)**2).view(1,1,OUT_SHAPE,OUT_SHAPE)\n",
    "\n",
    "def alpha_scaling(alpha):\n",
    "    \"\"\"\n",
    "    Scales the deflection angle obtained from the model to meaningful bounds\n",
    "    \n",
    "    :param alpha: Deflection angle to be scaled\n",
    "    :return: Scaled deflection angle\n",
    "    \"\"\"\n",
    "    alpha = alpha * alpha_coeff_1.repeat(alpha.shape[0],1,1,1).to(alpha.device)\n",
    "    alpha = alpha + alpha_disp_1.repeat(alpha.shape[0],1,1,1).to(alpha.device)\n",
    "    return alpha\n",
    "\n",
    "def alpha_delta_scaling(alpha):\n",
    "    \"\"\"\n",
    "    Scales the deflection angle obtained from the model to meaningful bounds\n",
    "    \n",
    "    :param alpha: Deflection angle to be scaled\n",
    "    :return: Scaled deflection angle\n",
    "    \"\"\"\n",
    "    alpha = alpha * alpha_coeff_2.repeat(alpha.shape[0],1,1,1).to(alpha.device)\n",
    "    alpha = alpha + alpha_disp_2.repeat(alpha.shape[0],1,1,1).to(alpha.device)\n",
    "    return alpha\n",
    "\n",
    "def variation_density_loss(alpha):\n",
    "        diff_x = torch.abs(alpha[:, :, 1:, :] - alpha[:, :, :-1, :])#/((alpha[:, :, 1:, :] + alpha[:, :, :-1, :])/2))\n",
    "        diff_y = torch.abs(alpha[:, :, :, 1:] - alpha[:, :, :, :-1])#/((alpha[:, :, :, 1:] + alpha[:, :, :, :-1])/2))\n",
    "        return torch.sum(diff_x)/(diff_x.shape[2]*diff_x.shape[3]) + torch.sum(diff_y)/(diff_y.shape[2]*diff_y.shape[3])"
   ]
  },
  {
   "cell_type": "code",
   "execution_count": 4,
   "metadata": {},
   "outputs": [],
   "source": [
    "# We can now load the datasets, combine and shuffle them to have a (close to) homogenous distribution of all sub-structures.\n",
    "BATCH_SIZE = 5 # Feel free to increase this number; all the training was done on my personal machine, hence, this limitation/\n",
    "\n",
    "dataset_no_sub = data.LensingDataset('../Simulations/data_model_%d/'%model_number,['no_sub'],5000)\n",
    "train_dataset_no_sub, val_dataset_no_sub = torch.utils.data.random_split(dataset_no_sub, [0.8, 0.2])\n",
    "\n",
    "dataset_axion = data.LensingDataset('../Simulations/data_model_%d/'%model_number,['axion'],5000)\n",
    "train_dataset_axion, val_dataset_axion = torch.utils.data.random_split(dataset_axion, [0.8, 0.2])\n",
    "\n",
    "dataset_cdm = data.LensingDataset('../Simulations/data_model_%d/'%model_number,['cdm'],5000)\n",
    "train_dataset_cdm, val_dataset_cdm = torch.utils.data.random_split(dataset_cdm, [0.8, 0.2])\n",
    "\n",
    "train_dataset = torch.utils.data.ConcatDataset([train_dataset_no_sub, train_dataset_axion, train_dataset_cdm])\n",
    "val_dataset = torch.utils.data.ConcatDataset([val_dataset_no_sub, val_dataset_axion, val_dataset_cdm])\n",
    "\n",
    "train_dataset, train_rest = torch.utils.data.random_split(train_dataset, [0.34, 0.66])\n",
    "val_dataset, val_rest = torch.utils.data.random_split(val_dataset, [0.34, 0.66])\n",
    "\n",
    "train_dataloader = torch.utils.data.DataLoader(train_dataset,shuffle=True,batch_size=BATCH_SIZE,num_workers=15)\n",
    "val_dataloader = torch.utils.data.DataLoader(val_dataset,shuffle=True,batch_size=BATCH_SIZE,num_workers=15)\n",
    "\n",
    "# This configuration will load 5000 (low-resolution) images in total, with a 80:20 validation split. "
   ]
  },
  {
   "cell_type": "code",
   "execution_count": 5,
   "metadata": {},
   "outputs": [],
   "source": [
    "dataset_no_sub_test = data.LensingDataset('../Simulations/data_model_%d/'%model_number,['no_sub'],5000)\n",
    "dataset_axion_test = data.LensingDataset('../Simulations/data_model_%d/'%model_number,['axion'],5000)\n",
    "dataset_cdm_test = data.LensingDataset('../Simulations/data_model_%d/'%model_number,['cdm'],5000)"
   ]
  },
  {
   "cell_type": "code",
   "execution_count": 6,
   "metadata": {},
   "outputs": [
    {
     "name": "stdout",
     "output_type": "stream",
     "text": [
      "Classifier network parameters: 277723\n"
     ]
    }
   ],
   "source": [
    "classifier = models.Classifier(in_shape=IN_SHAPE, out_classes=3, model=1, in_channels=1, lr=True).to(device)\n",
    "classifier_criterion = torch.nn.CrossEntropyLoss()\n",
    "opt_classifier = torch.optim.Adam(params=list(classifier.parameters()),lr=LR)\n",
    "\n",
    "classifier_params = sum(p.numel() for p in classifier.parameters())\n",
    "print(f\"Classifier network parameters: {classifier_params}\")"
   ]
  },
  {
   "cell_type": "code",
   "execution_count": 7,
   "metadata": {},
   "outputs": [
    {
     "data": {
      "text/plain": [
       "Classifier(\n",
       "  (conv1): Conv2d(1, 8, kernel_size=(5, 5), stride=(1, 1), padding=(2, 2))\n",
       "  (relu): ReLU()\n",
       "  (b1): Sequential(\n",
       "    (0): Conv2d(8, 8, kernel_size=(3, 3), stride=(1, 1), padding=(1, 1))\n",
       "    (1): ReLU(inplace=True)\n",
       "    (2): Conv2d(8, 8, kernel_size=(3, 3), stride=(1, 1), padding=(1, 1))\n",
       "  )\n",
       "  (conv2): Conv2d(8, 16, kernel_size=(4, 4), stride=(2, 2), padding=(2, 2))\n",
       "  (b2): Sequential(\n",
       "    (0): Conv2d(16, 16, kernel_size=(3, 3), stride=(1, 1), padding=(1, 1))\n",
       "    (1): ReLU(inplace=True)\n",
       "    (2): Conv2d(16, 16, kernel_size=(3, 3), stride=(1, 1), padding=(1, 1))\n",
       "  )\n",
       "  (conv3): Conv2d(16, 24, kernel_size=(4, 4), stride=(2, 2), padding=(2, 2))\n",
       "  (b3): Sequential(\n",
       "    (0): Conv2d(24, 24, kernel_size=(3, 3), stride=(1, 1), padding=(1, 1))\n",
       "    (1): ReLU(inplace=True)\n",
       "    (2): Conv2d(24, 24, kernel_size=(3, 3), stride=(1, 1), padding=(1, 1))\n",
       "  )\n",
       "  (conv4): Conv2d(24, 32, kernel_size=(4, 4), stride=(2, 2), padding=(2, 2))\n",
       "  (b4): Sequential(\n",
       "    (0): Conv2d(32, 32, kernel_size=(3, 3), stride=(1, 1), padding=(1, 1))\n",
       "    (1): ReLU(inplace=True)\n",
       "    (2): Conv2d(32, 32, kernel_size=(3, 3), stride=(1, 1), padding=(1, 1))\n",
       "  )\n",
       "  (conv5): Conv2d(32, 32, kernel_size=(4, 4), stride=(2, 2), padding=(2, 2))\n",
       "  (flatten): Flatten(start_dim=1, end_dim=-1)\n",
       "  (fc1): Linear(in_features=800, out_features=256, bias=True)\n",
       "  (fc2): Linear(in_features=256, out_features=3, bias=True)\n",
       ")"
      ]
     },
     "execution_count": 7,
     "metadata": {},
     "output_type": "execute_result"
    }
   ],
   "source": [
    "# Performing He initialization of the model weights.\n",
    "\n",
    "def init_weights(m):\n",
    "    \"\"\"\n",
    "    Iterates through all the convolution and fully connected layers of the model to initialize all their weights\n",
    "\n",
    "    :param m: Model to be initialized\n",
    "    \"\"\"\n",
    "    if isinstance(m, torch.nn.Conv2d) or isinstance(m, torch.nn.Linear):\n",
    "        torch.nn.init.kaiming_normal_(m.weight)  # He initialization\n",
    "        if m.bias is not None:\n",
    "            torch.nn.init.constant_(m.bias, 0)\n",
    "\n",
    "classifier.apply(init_weights)"
   ]
  },
  {
   "cell_type": "code",
   "execution_count": 8,
   "metadata": {},
   "outputs": [
    {
     "name": "stderr",
     "output_type": "stream",
     "text": [
      "Training epoch 1: 100%|██████████| 816/816 [00:04<00:00, 180.56it/s]\n"
     ]
    },
    {
     "name": "stdout",
     "output_type": "stream",
     "text": [
      "Training at epoch 1/30: 1.0516213663652831 and acc 0.4348039215686275 at LR=0.0001\n"
     ]
    },
    {
     "name": "stderr",
     "output_type": "stream",
     "text": [
      "Validation epoch 1: 100%|██████████| 204/204 [00:00<00:00, 222.21it/s]\n"
     ]
    },
    {
     "name": "stdout",
     "output_type": "stream",
     "text": [
      "Validation at epoch 1/30: 1.0075311301385654 and acc 0.46470588235294125 at LR=0.0001\n"
     ]
    },
    {
     "name": "stderr",
     "output_type": "stream",
     "text": [
      "Training epoch 2: 100%|██████████| 816/816 [00:04<00:00, 191.43it/s]\n"
     ]
    },
    {
     "name": "stdout",
     "output_type": "stream",
     "text": [
      "Training at epoch 2/30: 0.8103582508880279 and acc 0.6232843137254902 at LR=0.0001\n"
     ]
    },
    {
     "name": "stderr",
     "output_type": "stream",
     "text": [
      "Validation epoch 2: 100%|██████████| 204/204 [00:00<00:00, 244.51it/s]\n"
     ]
    },
    {
     "name": "stdout",
     "output_type": "stream",
     "text": [
      "Validation at epoch 2/30: 0.943466525232675 and acc 0.6049019607843138 at LR=0.0001\n"
     ]
    },
    {
     "name": "stderr",
     "output_type": "stream",
     "text": [
      "Training epoch 3: 100%|██████████| 816/816 [00:04<00:00, 189.50it/s]\n"
     ]
    },
    {
     "name": "stdout",
     "output_type": "stream",
     "text": [
      "Training at epoch 3/30: 0.6386432911397195 and acc 0.7166666666666666 at LR=0.0001\n"
     ]
    },
    {
     "name": "stderr",
     "output_type": "stream",
     "text": [
      "Validation epoch 3: 100%|██████████| 204/204 [00:00<00:00, 229.19it/s]\n"
     ]
    },
    {
     "name": "stdout",
     "output_type": "stream",
     "text": [
      "Validation at epoch 3/30: 0.6110067417224249 and acc 0.7303921568627451 at LR=0.0001\n"
     ]
    },
    {
     "name": "stderr",
     "output_type": "stream",
     "text": [
      "Training epoch 4: 100%|██████████| 816/816 [00:04<00:00, 185.84it/s]\n"
     ]
    },
    {
     "name": "stdout",
     "output_type": "stream",
     "text": [
      "Training at epoch 4/30: 0.5658631635756761 and acc 0.7524509803921569 at LR=0.0001\n"
     ]
    },
    {
     "name": "stderr",
     "output_type": "stream",
     "text": [
      "Validation epoch 4: 100%|██████████| 204/204 [00:00<00:00, 233.12it/s]\n"
     ]
    },
    {
     "name": "stdout",
     "output_type": "stream",
     "text": [
      "Validation at epoch 4/30: 0.5697918459773064 and acc 0.7450980392156863 at LR=0.0001\n"
     ]
    },
    {
     "name": "stderr",
     "output_type": "stream",
     "text": [
      "Training epoch 5: 100%|██████████| 816/816 [00:04<00:00, 192.86it/s]\n"
     ]
    },
    {
     "name": "stdout",
     "output_type": "stream",
     "text": [
      "Training at epoch 5/30: 0.5175725654014113 and acc 0.780392156862745 at LR=0.0001\n"
     ]
    },
    {
     "name": "stderr",
     "output_type": "stream",
     "text": [
      "Validation epoch 5: 100%|██████████| 204/204 [00:00<00:00, 247.15it/s]\n"
     ]
    },
    {
     "name": "stdout",
     "output_type": "stream",
     "text": [
      "Validation at epoch 5/30: 0.47673488397370367 and acc 0.803921568627451 at LR=0.0001\n"
     ]
    },
    {
     "name": "stderr",
     "output_type": "stream",
     "text": [
      "Training epoch 6: 100%|██████████| 816/816 [00:04<00:00, 198.65it/s]\n"
     ]
    },
    {
     "name": "stdout",
     "output_type": "stream",
     "text": [
      "Training at epoch 6/30: 0.4869556905674365 and acc 0.7960784313725491 at LR=0.0001\n"
     ]
    },
    {
     "name": "stderr",
     "output_type": "stream",
     "text": [
      "Validation epoch 6: 100%|██████████| 204/204 [00:00<00:00, 234.09it/s]\n"
     ]
    },
    {
     "name": "stdout",
     "output_type": "stream",
     "text": [
      "Validation at epoch 6/30: 0.6025857291567851 and acc 0.7039215686274508 at LR=0.0001\n"
     ]
    },
    {
     "name": "stderr",
     "output_type": "stream",
     "text": [
      "Training epoch 7: 100%|██████████| 816/816 [00:04<00:00, 188.82it/s]\n"
     ]
    },
    {
     "name": "stdout",
     "output_type": "stream",
     "text": [
      "Training at epoch 7/30: 0.4632276579208088 and acc 0.8007352941176472 at LR=0.0001\n"
     ]
    },
    {
     "name": "stderr",
     "output_type": "stream",
     "text": [
      "Validation epoch 7: 100%|██████████| 204/204 [00:00<00:00, 216.80it/s]\n"
     ]
    },
    {
     "name": "stdout",
     "output_type": "stream",
     "text": [
      "Validation at epoch 7/30: 0.4319771944234769 and acc 0.8235294117647058 at LR=0.0001\n"
     ]
    },
    {
     "name": "stderr",
     "output_type": "stream",
     "text": [
      "Training epoch 8: 100%|██████████| 816/816 [00:04<00:00, 179.56it/s]\n"
     ]
    },
    {
     "name": "stdout",
     "output_type": "stream",
     "text": [
      "Training at epoch 8/30: 0.44202880305922865 and acc 0.8147058823529412 at LR=0.0001\n"
     ]
    },
    {
     "name": "stderr",
     "output_type": "stream",
     "text": [
      "Validation epoch 8: 100%|██████████| 204/204 [00:00<00:00, 210.41it/s]\n"
     ]
    },
    {
     "name": "stdout",
     "output_type": "stream",
     "text": [
      "Validation at epoch 8/30: 0.4175903470273696 and acc 0.8205882352941175 at LR=0.0001\n"
     ]
    },
    {
     "name": "stderr",
     "output_type": "stream",
     "text": [
      "Training epoch 9: 100%|██████████| 816/816 [00:04<00:00, 173.68it/s]\n"
     ]
    },
    {
     "name": "stdout",
     "output_type": "stream",
     "text": [
      "Training at epoch 9/30: 0.4293179576486057 and acc 0.8164215686274511 at LR=0.0001\n"
     ]
    },
    {
     "name": "stderr",
     "output_type": "stream",
     "text": [
      "Validation epoch 9: 100%|██████████| 204/204 [00:00<00:00, 257.93it/s]\n"
     ]
    },
    {
     "name": "stdout",
     "output_type": "stream",
     "text": [
      "Validation at epoch 9/30: 0.4104238022118807 and acc 0.8352941176470589 at LR=0.0001\n"
     ]
    },
    {
     "name": "stderr",
     "output_type": "stream",
     "text": [
      "Training epoch 10: 100%|██████████| 816/816 [00:04<00:00, 196.02it/s]\n"
     ]
    },
    {
     "name": "stdout",
     "output_type": "stream",
     "text": [
      "Training at epoch 10/30: 0.40914217147556153 and acc 0.8276960784313726 at LR=0.0001\n"
     ]
    },
    {
     "name": "stderr",
     "output_type": "stream",
     "text": [
      "Validation epoch 10: 100%|██████████| 204/204 [00:00<00:00, 233.85it/s]\n"
     ]
    },
    {
     "name": "stdout",
     "output_type": "stream",
     "text": [
      "Validation at epoch 10/30: 0.4736095940073331 and acc 0.8235294117647058 at LR=0.0001\n"
     ]
    },
    {
     "name": "stderr",
     "output_type": "stream",
     "text": [
      "Training epoch 11: 100%|██████████| 816/816 [00:04<00:00, 187.08it/s]\n"
     ]
    },
    {
     "name": "stdout",
     "output_type": "stream",
     "text": [
      "Training at epoch 11/30: 0.39275460770609333 and acc 0.8370098039215687 at LR=0.0001\n"
     ]
    },
    {
     "name": "stderr",
     "output_type": "stream",
     "text": [
      "Validation epoch 11: 100%|██████████| 204/204 [00:00<00:00, 220.07it/s]\n"
     ]
    },
    {
     "name": "stdout",
     "output_type": "stream",
     "text": [
      "Validation at epoch 11/30: 0.3680762085771444 and acc 0.8568627450980392 at LR=0.0001\n"
     ]
    },
    {
     "name": "stderr",
     "output_type": "stream",
     "text": [
      "Training epoch 12: 100%|██████████| 816/816 [00:04<00:00, 184.93it/s]\n"
     ]
    },
    {
     "name": "stdout",
     "output_type": "stream",
     "text": [
      "Training at epoch 12/30: 0.38583354973439676 and acc 0.8419117647058824 at LR=0.0001\n"
     ]
    },
    {
     "name": "stderr",
     "output_type": "stream",
     "text": [
      "Validation epoch 12: 100%|██████████| 204/204 [00:00<00:00, 235.32it/s]\n"
     ]
    },
    {
     "name": "stdout",
     "output_type": "stream",
     "text": [
      "Validation at epoch 12/30: 0.3777994258767542 and acc 0.8696078431372548 at LR=0.0001\n"
     ]
    },
    {
     "name": "stderr",
     "output_type": "stream",
     "text": [
      "Training epoch 13: 100%|██████████| 816/816 [00:04<00:00, 186.11it/s]\n"
     ]
    },
    {
     "name": "stdout",
     "output_type": "stream",
     "text": [
      "Training at epoch 13/30: 0.3855020162186074 and acc 0.8424019607843138 at LR=0.0001\n"
     ]
    },
    {
     "name": "stderr",
     "output_type": "stream",
     "text": [
      "Validation epoch 13: 100%|██████████| 204/204 [00:00<00:00, 226.72it/s]\n"
     ]
    },
    {
     "name": "stdout",
     "output_type": "stream",
     "text": [
      "Validation at epoch 13/30: 0.42800598102165205 and acc 0.8176470588235295 at LR=0.0001\n"
     ]
    },
    {
     "name": "stderr",
     "output_type": "stream",
     "text": [
      "Training epoch 14: 100%|██████████| 816/816 [00:04<00:00, 171.87it/s]\n"
     ]
    },
    {
     "name": "stdout",
     "output_type": "stream",
     "text": [
      "Training at epoch 14/30: 0.3694798729037775 and acc 0.8419117647058824 at LR=0.0001\n"
     ]
    },
    {
     "name": "stderr",
     "output_type": "stream",
     "text": [
      "Validation epoch 14: 100%|██████████| 204/204 [00:00<00:00, 215.76it/s]\n"
     ]
    },
    {
     "name": "stdout",
     "output_type": "stream",
     "text": [
      "Validation at epoch 14/30: 0.3984631926606537 and acc 0.8333333333333334 at LR=0.0001\n"
     ]
    },
    {
     "name": "stderr",
     "output_type": "stream",
     "text": [
      "Training epoch 15: 100%|██████████| 816/816 [00:04<00:00, 168.85it/s]\n"
     ]
    },
    {
     "name": "stdout",
     "output_type": "stream",
     "text": [
      "Training at epoch 15/30: 0.3655358128570358 and acc 0.8438725490196078 at LR=0.0001\n"
     ]
    },
    {
     "name": "stderr",
     "output_type": "stream",
     "text": [
      "Validation epoch 15: 100%|██████████| 204/204 [00:00<00:00, 231.32it/s]\n"
     ]
    },
    {
     "name": "stdout",
     "output_type": "stream",
     "text": [
      "Validation at epoch 15/30: 0.35570748726946905 and acc 0.8578431372549019 at LR=0.0001\n"
     ]
    },
    {
     "name": "stderr",
     "output_type": "stream",
     "text": [
      "Training epoch 16: 100%|██████████| 816/816 [00:03<00:00, 208.36it/s]\n"
     ]
    },
    {
     "name": "stdout",
     "output_type": "stream",
     "text": [
      "Training at epoch 16/30: 0.35202149166976665 and acc 0.8573529411764707 at LR=0.0001\n"
     ]
    },
    {
     "name": "stderr",
     "output_type": "stream",
     "text": [
      "Validation epoch 16: 100%|██████████| 204/204 [00:00<00:00, 236.61it/s]\n"
     ]
    },
    {
     "name": "stdout",
     "output_type": "stream",
     "text": [
      "Validation at epoch 16/30: 0.3763110396616599 and acc 0.8480392156862745 at LR=0.0001\n"
     ]
    },
    {
     "name": "stderr",
     "output_type": "stream",
     "text": [
      "Training epoch 17: 100%|██████████| 816/816 [00:04<00:00, 193.30it/s]\n"
     ]
    },
    {
     "name": "stdout",
     "output_type": "stream",
     "text": [
      "Training at epoch 17/30: 0.3464098388452412 and acc 0.8534313725490196 at LR=0.0001\n"
     ]
    },
    {
     "name": "stderr",
     "output_type": "stream",
     "text": [
      "Validation epoch 17: 100%|██████████| 204/204 [00:00<00:00, 255.29it/s]\n"
     ]
    },
    {
     "name": "stdout",
     "output_type": "stream",
     "text": [
      "Validation at epoch 17/30: 0.38043592210092086 and acc 0.85 at LR=0.0001\n"
     ]
    },
    {
     "name": "stderr",
     "output_type": "stream",
     "text": [
      "Training epoch 18: 100%|██████████| 816/816 [00:03<00:00, 210.11it/s]\n"
     ]
    },
    {
     "name": "stdout",
     "output_type": "stream",
     "text": [
      "Training at epoch 18/30: 0.3502472312076647 and acc 0.8495098039215687 at LR=0.0001\n"
     ]
    },
    {
     "name": "stderr",
     "output_type": "stream",
     "text": [
      "Validation epoch 18: 100%|██████████| 204/204 [00:00<00:00, 253.07it/s]\n"
     ]
    },
    {
     "name": "stdout",
     "output_type": "stream",
     "text": [
      "Validation at epoch 18/30: 0.46369083933806154 and acc 0.8235294117647058 at LR=0.0001\n"
     ]
    },
    {
     "name": "stderr",
     "output_type": "stream",
     "text": [
      "Training epoch 19: 100%|██████████| 816/816 [00:04<00:00, 198.49it/s]\n"
     ]
    },
    {
     "name": "stdout",
     "output_type": "stream",
     "text": [
      "Training at epoch 19/30: 0.327885432174548 and acc 0.8637254901960784 at LR=0.0001\n"
     ]
    },
    {
     "name": "stderr",
     "output_type": "stream",
     "text": [
      "Validation epoch 19: 100%|██████████| 204/204 [00:00<00:00, 245.96it/s]\n"
     ]
    },
    {
     "name": "stdout",
     "output_type": "stream",
     "text": [
      "Validation at epoch 19/30: 0.6138034887456646 and acc 0.7127450980392156 at LR=0.0001\n"
     ]
    },
    {
     "name": "stderr",
     "output_type": "stream",
     "text": [
      "Training epoch 20: 100%|██████████| 816/816 [00:04<00:00, 193.14it/s]\n"
     ]
    },
    {
     "name": "stdout",
     "output_type": "stream",
     "text": [
      "Training at epoch 20/30: 0.3275717556927132 and acc 0.8612745098039215 at LR=0.0001\n"
     ]
    },
    {
     "name": "stderr",
     "output_type": "stream",
     "text": [
      "Validation epoch 20: 100%|██████████| 204/204 [00:00<00:00, 240.74it/s]\n"
     ]
    },
    {
     "name": "stdout",
     "output_type": "stream",
     "text": [
      "Validation at epoch 20/30: 0.4676828340937694 and acc 0.8078431372549019 at LR=0.0001\n"
     ]
    },
    {
     "name": "stderr",
     "output_type": "stream",
     "text": [
      "Training epoch 21: 100%|██████████| 816/816 [00:04<00:00, 190.88it/s]\n"
     ]
    },
    {
     "name": "stdout",
     "output_type": "stream",
     "text": [
      "Training at epoch 21/30: 0.316445806119066 and acc 0.8659313725490196 at LR=0.0001\n"
     ]
    },
    {
     "name": "stderr",
     "output_type": "stream",
     "text": [
      "Validation epoch 21: 100%|██████████| 204/204 [00:00<00:00, 249.82it/s]\n"
     ]
    },
    {
     "name": "stdout",
     "output_type": "stream",
     "text": [
      "Validation at epoch 21/30: 0.4076425369507085 and acc 0.8362745098039216 at LR=0.0001\n"
     ]
    },
    {
     "name": "stderr",
     "output_type": "stream",
     "text": [
      "Training epoch 22: 100%|██████████| 816/816 [00:03<00:00, 206.26it/s]\n"
     ]
    },
    {
     "name": "stdout",
     "output_type": "stream",
     "text": [
      "Training at epoch 22/30: 0.31190867003797573 and acc 0.8700980392156863 at LR=0.0001\n"
     ]
    },
    {
     "name": "stderr",
     "output_type": "stream",
     "text": [
      "Validation epoch 22: 100%|██████████| 204/204 [00:00<00:00, 225.31it/s]\n"
     ]
    },
    {
     "name": "stdout",
     "output_type": "stream",
     "text": [
      "Validation at epoch 22/30: 0.35230129774586827 and acc 0.8588235294117648 at LR=0.0001\n"
     ]
    },
    {
     "name": "stderr",
     "output_type": "stream",
     "text": [
      "Training epoch 23: 100%|██████████| 816/816 [00:04<00:00, 189.13it/s]\n"
     ]
    },
    {
     "name": "stdout",
     "output_type": "stream",
     "text": [
      "Training at epoch 23/30: 0.31907697883206326 and acc 0.8688725490196079 at LR=0.0001\n"
     ]
    },
    {
     "name": "stderr",
     "output_type": "stream",
     "text": [
      "Validation epoch 23: 100%|██████████| 204/204 [00:00<00:00, 239.93it/s]\n"
     ]
    },
    {
     "name": "stdout",
     "output_type": "stream",
     "text": [
      "Validation at epoch 23/30: 0.3539949066368589 and acc 0.8529411764705882 at LR=0.0001\n"
     ]
    },
    {
     "name": "stderr",
     "output_type": "stream",
     "text": [
      "Training epoch 24: 100%|██████████| 816/816 [00:04<00:00, 185.31it/s]\n"
     ]
    },
    {
     "name": "stdout",
     "output_type": "stream",
     "text": [
      "Training at epoch 24/30: 0.3015197555337092 and acc 0.8786764705882353 at LR=0.0001\n"
     ]
    },
    {
     "name": "stderr",
     "output_type": "stream",
     "text": [
      "Validation epoch 24: 100%|██████████| 204/204 [00:00<00:00, 234.30it/s]\n"
     ]
    },
    {
     "name": "stdout",
     "output_type": "stream",
     "text": [
      "Validation at epoch 24/30: 0.3689787279284906 and acc 0.8470588235294116 at LR=0.0001\n"
     ]
    },
    {
     "name": "stderr",
     "output_type": "stream",
     "text": [
      "Training epoch 25: 100%|██████████| 816/816 [00:04<00:00, 184.73it/s]\n"
     ]
    },
    {
     "name": "stdout",
     "output_type": "stream",
     "text": [
      "Training at epoch 25/30: 0.3007918842832784 and acc 0.8811274509803921 at LR=0.0001\n"
     ]
    },
    {
     "name": "stderr",
     "output_type": "stream",
     "text": [
      "Validation epoch 25: 100%|██████████| 204/204 [00:00<00:00, 224.18it/s]\n"
     ]
    },
    {
     "name": "stdout",
     "output_type": "stream",
     "text": [
      "Validation at epoch 25/30: 0.3600143841193879 and acc 0.8598039215686274 at LR=0.0001\n"
     ]
    },
    {
     "name": "stderr",
     "output_type": "stream",
     "text": [
      "Training epoch 26: 100%|██████████| 816/816 [00:04<00:00, 181.47it/s]\n"
     ]
    },
    {
     "name": "stdout",
     "output_type": "stream",
     "text": [
      "Training at epoch 26/30: 0.2986553567276204 and acc 0.8713235294117647 at LR=0.0001\n"
     ]
    },
    {
     "name": "stderr",
     "output_type": "stream",
     "text": [
      "Validation epoch 26: 100%|██████████| 204/204 [00:00<00:00, 215.16it/s]\n"
     ]
    },
    {
     "name": "stdout",
     "output_type": "stream",
     "text": [
      "Validation at epoch 26/30: 0.35943215425290603 and acc 0.8450980392156862 at LR=0.0001\n"
     ]
    },
    {
     "name": "stderr",
     "output_type": "stream",
     "text": [
      "Training epoch 27: 100%|██████████| 816/816 [00:04<00:00, 201.26it/s]\n"
     ]
    },
    {
     "name": "stdout",
     "output_type": "stream",
     "text": [
      "Training at epoch 27/30: 0.28635947468694 and acc 0.8830882352941177 at LR=0.0001\n"
     ]
    },
    {
     "name": "stderr",
     "output_type": "stream",
     "text": [
      "Validation epoch 27: 100%|██████████| 204/204 [00:00<00:00, 247.82it/s]\n"
     ]
    },
    {
     "name": "stdout",
     "output_type": "stream",
     "text": [
      "Validation at epoch 27/30: 0.30757968289339366 and acc 0.8715686274509804 at LR=0.0001\n"
     ]
    },
    {
     "name": "stderr",
     "output_type": "stream",
     "text": [
      "Training epoch 28: 100%|██████████| 816/816 [00:04<00:00, 203.29it/s]\n"
     ]
    },
    {
     "name": "stdout",
     "output_type": "stream",
     "text": [
      "Training at epoch 28/30: 0.27625115318440685 and acc 0.8830882352941177 at LR=0.0001\n"
     ]
    },
    {
     "name": "stderr",
     "output_type": "stream",
     "text": [
      "Validation epoch 28: 100%|██████████| 204/204 [00:00<00:00, 244.53it/s]\n"
     ]
    },
    {
     "name": "stdout",
     "output_type": "stream",
     "text": [
      "Validation at epoch 28/30: 0.4697022056172821 and acc 0.8088235294117647 at LR=0.0001\n"
     ]
    },
    {
     "name": "stderr",
     "output_type": "stream",
     "text": [
      "Training epoch 29: 100%|██████████| 816/816 [00:04<00:00, 201.49it/s]\n"
     ]
    },
    {
     "name": "stdout",
     "output_type": "stream",
     "text": [
      "Training at epoch 29/30: 0.29056065420730853 and acc 0.8772058823529413 at LR=0.0001\n"
     ]
    },
    {
     "name": "stderr",
     "output_type": "stream",
     "text": [
      "Validation epoch 29: 100%|██████████| 204/204 [00:00<00:00, 244.98it/s]\n"
     ]
    },
    {
     "name": "stdout",
     "output_type": "stream",
     "text": [
      "Validation at epoch 29/30: 0.39682318125486227 and acc 0.8294117647058823 at LR=0.0001\n"
     ]
    },
    {
     "name": "stderr",
     "output_type": "stream",
     "text": [
      "Training epoch 30: 100%|██████████| 816/816 [00:04<00:00, 185.64it/s]\n"
     ]
    },
    {
     "name": "stdout",
     "output_type": "stream",
     "text": [
      "Training at epoch 30/30: 0.27044511053884657 and acc 0.8865196078431372 at LR=0.0001\n"
     ]
    },
    {
     "name": "stderr",
     "output_type": "stream",
     "text": [
      "Validation epoch 30: 100%|██████████| 204/204 [00:00<00:00, 234.37it/s]"
     ]
    },
    {
     "name": "stdout",
     "output_type": "stream",
     "text": [
      "Validation at epoch 30/30: 0.35822143836754977 and acc 0.8735294117647058 at LR=0.0001\n"
     ]
    },
    {
     "name": "stderr",
     "output_type": "stream",
     "text": [
      "\n"
     ]
    }
   ],
   "source": [
    "# Training Sequence\n",
    "\n",
    "best_val_loss = np.inf\n",
    "best_weights = None\n",
    "best_delta_weights = None\n",
    "history = {'c_loss':[], 'c_val_loss':[], 'accs':[], 'val_accs':[]} # tracks the train and val losses and training results at each epoch\n",
    "for epoch in range(EPOCHS):\n",
    "    classifier_losses = []\n",
    "    accs = []\n",
    "    classifier.train()\n",
    "    for i,(x, label) in enumerate(tqdm.tqdm(train_dataloader, desc=f\"Training epoch {epoch+1}\")):\n",
    "        (x, label) = (x.float().to(device), label.to(device))\n",
    "        class_prediction = classifier(x)\n",
    "        classifier_loss = classifier_criterion(class_prediction, label)\n",
    "        opt_classifier.zero_grad()\n",
    "        classifier_loss.backward()\n",
    "        opt_classifier.step()\n",
    "        classifier_losses.append(float(classifier_loss))\n",
    "        prediction_indices = torch.argmax(class_prediction, 1)\n",
    "        acc = float(torch.sum(label == prediction_indices))/float(len(label))\n",
    "        accs.append(float(acc))\n",
    "    print(f\"Training at epoch {epoch+1}/{EPOCHS}: {np.mean(classifier_losses)} and acc {np.mean(accs)} at LR={opt_classifier.param_groups[0]['lr']}\")\n",
    "    history['c_loss'].append(np.mean(classifier_losses))\n",
    "    history['accs'].append(np.mean(accs))\n",
    "\n",
    "    classifier.eval()\n",
    "    classifier_losses = []\n",
    "    accs = []\n",
    "    for i,(x, label) in enumerate(tqdm.tqdm(val_dataloader, desc=f\"Validation epoch {epoch+1}\")):\n",
    "        (x, label) = (x.float().to(device), label.to(device))\n",
    "        class_prediction = classifier(x)\n",
    "        classifier_loss = classifier_criterion(class_prediction, label)\n",
    "        classifier_losses.append(float(classifier_loss))\n",
    "        prediction_indices = torch.argmax(class_prediction, 1)\n",
    "        acc = float(torch.sum(label == prediction_indices))/float(len(label))\n",
    "        accs.append(float(acc))\n",
    "    if best_val_loss > np.mean(classifier_losses):\n",
    "        best_val_loss = np.mean(classifier_losses)\n",
    "        best_weights = classifier.state_dict()\n",
    "    history['c_val_loss'].append(np.mean(classifier_losses))\n",
    "    history['val_accs'].append(np.mean(accs))\n",
    "    print(f\"Validation at epoch {epoch+1}/{EPOCHS}: {np.mean(classifier_losses)} and acc {np.mean(accs)} at LR={opt_classifier.param_groups[0]['lr']}\")"
   ]
  },
  {
   "cell_type": "code",
   "execution_count": 9,
   "metadata": {},
   "outputs": [
    {
     "data": {
      "text/plain": [
       "<All keys matched successfully>"
      ]
     },
     "execution_count": 9,
     "metadata": {},
     "output_type": "execute_result"
    }
   ],
   "source": [
    "classifier.load_state_dict(best_weights)"
   ]
  },
  {
   "cell_type": "code",
   "execution_count": 10,
   "metadata": {},
   "outputs": [
    {
     "name": "stderr",
     "output_type": "stream",
     "text": [
      "Evaluating CDM sub-structure images: 100%|██████████| 5000/5000 [00:07<00:00, 703.88it/s]\n",
      "Evaluating no sub-structure images: 100%|██████████| 5000/5000 [00:07<00:00, 676.62it/s]\n",
      "Evaluating axion DM sub-structure images: 100%|██████████| 5000/5000 [00:07<00:00, 693.16it/s]\n"
     ]
    }
   ],
   "source": [
    "history_no_sub = {'no_sub':0,'axion':0, 'cdm':0}\n",
    "history_axion = {'no_sub':0,'axion':0, 'cdm':0}\n",
    "history_cdm = {'no_sub':0,'axion':0, 'cdm':0}\n",
    "preds, probs, ys = [], [], []\n",
    "worst_case = 0\n",
    "best_case = 0\n",
    "mid_case = 0\n",
    "extra = 0\n",
    "\n",
    "classifier.eval()\n",
    "for i in tqdm.tqdm(range(len(dataset_no_sub)),desc=\"Evaluating CDM sub-structure images\"):\n",
    "    x, label = dataset_no_sub_test[i]\n",
    "    class_prediction = classifier(x.float().unsqueeze(0).to(device))\n",
    "    pred = torch.argmax(class_prediction, 1)\n",
    "    probabilities = torch.softmax(class_prediction, dim=1)\n",
    "    ys = ys + [label]\n",
    "    preds = preds + list(pred.detach().cpu().numpy())\n",
    "    probs = probs + list(probabilities.detach().cpu().numpy())\n",
    "    if pred == 0:\n",
    "        history_no_sub['no_sub'] += 1\n",
    "    elif pred == 1:\n",
    "        history_no_sub['axion'] += 1\n",
    "    elif pred == 2:\n",
    "        history_no_sub['cdm'] += 1\n",
    "\n",
    "for i in tqdm.tqdm(range(len(dataset_no_sub)),desc=\"Evaluating no sub-structure images\"):\n",
    "    x, label = dataset_axion_test[i]\n",
    "    class_prediction = classifier(x.float().unsqueeze(0).to(device))\n",
    "    pred = torch.argmax(class_prediction, 1)\n",
    "    probabilities = torch.softmax(class_prediction, dim=1)\n",
    "    ys = ys + [label]\n",
    "    preds = preds + list(pred.detach().cpu().numpy())\n",
    "    probs = probs + list(probabilities.detach().cpu().numpy())\n",
    "    if pred == 0:\n",
    "        history_axion['no_sub'] += 1\n",
    "    elif pred == 1:\n",
    "        history_axion['axion'] += 1\n",
    "    elif pred == 2:\n",
    "        history_axion['cdm'] += 1\n",
    "\n",
    "for i in tqdm.tqdm(range(len(dataset_no_sub)),desc=\"Evaluating axion DM sub-structure images\"):\n",
    "    x, label = dataset_cdm_test[i]\n",
    "    class_prediction = classifier(x.float().unsqueeze(0).to(device))\n",
    "    pred = torch.argmax(class_prediction, 1)\n",
    "    probabilities = torch.softmax(class_prediction, dim=1)\n",
    "    ys = ys + [label]\n",
    "    preds = preds + list(pred.detach().cpu().numpy())\n",
    "    probs = probs + list(probabilities.detach().cpu().numpy())\n",
    "    if pred == 0:\n",
    "        history_cdm['no_sub'] += 1\n",
    "    elif pred == 1:\n",
    "        history_cdm['axion'] += 1\n",
    "    elif pred == 2:\n",
    "        history_cdm['cdm'] += 1"
   ]
  },
  {
   "cell_type": "code",
   "execution_count": 11,
   "metadata": {},
   "outputs": [
    {
     "name": "stdout",
     "output_type": "stream",
     "text": [
      "+--------+--------+-------+------+\n",
      "|        | no_sub | axion | cdm  |\n",
      "+--------+--------+-------+------+\n",
      "| no_sub |  4969  |   0   |  31  |\n",
      "| axion  |   24   |  4067 | 909  |\n",
      "|  cdm   |  732   |  308  | 3960 |\n",
      "+--------+--------+-------+------+\n"
     ]
    }
   ],
   "source": [
    "from prettytable import PrettyTable\n",
    "\n",
    "pt = PrettyTable(['', 'no_sub', 'axion', 'cdm'])\n",
    "pt.add_row(['no_sub',history_no_sub['no_sub'],history_no_sub['axion'],history_no_sub['cdm']])\n",
    "pt.add_row(['axion',history_axion['no_sub'],history_axion['axion'],history_axion['cdm']])\n",
    "pt.add_row(['cdm',history_cdm['no_sub'],history_cdm['axion'],history_cdm['cdm']])\n",
    "print(pt)"
   ]
  },
  {
   "cell_type": "code",
   "execution_count": 12,
   "metadata": {},
   "outputs": [
    {
     "data": {
      "image/png": "[encoded data removed]",
      "text/plain": [
       "<Figure size 640x480 with 2 Axes>"
      ]
     },
     "metadata": {},
     "output_type": "display_data"
    }
   ],
   "source": [
    "import pandas as pd\n",
    "import seaborn as sn\n",
    "conf_mat = [[history_no_sub['no_sub'],history_no_sub['axion'],history_no_sub['cdm']],\n",
    "            [history_axion['no_sub'],history_axion['axion'],history_axion['cdm']],\n",
    "            [history_cdm['no_sub'],history_cdm['axion'],history_cdm['cdm']]]\n",
    "df_cm = pd.DataFrame(conf_mat, ['no_sub','axion','cdm'], ['no_sub','axion','cdm'])\n",
    "\n",
    "# plt.figure(figsize=(10,7))\n",
    "sn.set(font_scale=1.4) # for label size\n",
    "sn.heatmap(df_cm, annot=True, annot_kws={\"size\": 16}) # font size\n",
    "\n",
    "plt.show()"
   ]
  },
  {
   "cell_type": "code",
   "execution_count": 13,
   "metadata": {},
   "outputs": [],
   "source": [
    "for i in range(len(ys)):\n",
    "    if probs[i][ys[i]] == np.min(probs[i]): worst_case += 1\n",
    "    elif ys[i] == preds[i]: best_case += 1\n",
    "    elif probs[i][ys[i]] == sorted(probs[i])[1]: mid_case += 1\n",
    "    else: extra += 1"
   ]
  },
  {
   "cell_type": "code",
   "execution_count": 14,
   "metadata": {},
   "outputs": [
    {
     "data": {
      "text/plain": [
       "'\\nModel 2:\\n+--------+--------+-------+------+\\n|        | no_sub | axion | cdm  |\\n+--------+--------+-------+------+\\n| no_sub |  4789  |   0   | 211  |\\n| axion  |   6    |  4103 | 891  |\\n|  cdm   |  636   |  454  | 3910 |\\n+--------+--------+-------+------+\\n\\nModel 3:\\n+--------+--------+-------+------+\\n|        | no_sub | axion | cdm  |\\n+--------+--------+-------+------+\\n| no_sub |  4942  |   0   |  58  |\\n| axion  |   2    |  4487 | 511  |\\n|  cdm   |  299   |  216  | 4485 |\\n+--------+--------+-------+------+\\n'"
      ]
     },
     "execution_count": 14,
     "metadata": {},
     "output_type": "execute_result"
    }
   ],
   "source": [
    "\"\"\"\n",
    "Model 2:\n",
    "+--------+--------+-------+------+\n",
    "|        | no_sub | axion | cdm  |\n",
    "+--------+--------+-------+------+\n",
    "| no_sub |  4789  |   0   | 211  |\n",
    "| axion  |   6    |  4103 | 891  |\n",
    "|  cdm   |  636   |  454  | 3910 |\n",
    "+--------+--------+-------+------+\n",
    "\n",
    "Model 3:\n",
    "+--------+--------+-------+------+\n",
    "|        | no_sub | axion | cdm  |\n",
    "+--------+--------+-------+------+\n",
    "| no_sub |  4942  |   0   |  58  |\n",
    "| axion  |   2    |  4487 | 511  |\n",
    "|  cdm   |  299   |  216  | 4485 |\n",
    "+--------+--------+-------+------+\n",
    "\"\"\""
   ]
  },
  {
   "cell_type": "code",
   "execution_count": 15,
   "metadata": {},
   "outputs": [],
   "source": [
    "ns_curves = []\n",
    "lr_curves = []\n",
    "aucs = []\n",
    "for i in range(3):\n",
    "    y_ = []\n",
    "    probs_ = []\n",
    "    for j in range(len(preds)):\n",
    "        if i==ys[j] and ys[j]==preds[j]:\n",
    "            y_.append(1)\n",
    "        else: y_.append(0)\n",
    "        probs_.append(probs[j][i])\n",
    "    ns_probs = np.array([1/len(probs_) for __ in range(len(probs_))])\n",
    "    ns_auc = roc_auc_score(y_, ns_probs,multi_class='ovr')\n",
    "    lr_auc = roc_auc_score(y_, probs_,multi_class='ovr')\n",
    "    aucs.append((ns_auc,lr_auc))\n",
    "\n",
    "    ns_fpr, ns_tpr, _ = roc_curve(y_, np.array([0 for i in range(len(y_))]))\n",
    "    lr_fpr, lr_tpr, _ = roc_curve(y_, probs_)\n",
    "    ns_curves.append((ns_fpr, ns_tpr))\n",
    "    lr_curves.append((lr_fpr, lr_tpr))"
   ]
  },
  {
   "cell_type": "code",
   "execution_count": 16,
   "metadata": {},
   "outputs": [
    {
     "data": {
      "image/png": "[encoded data removed]",
      "text/plain": [
       "<Figure size 640x480 with 1 Axes>"
      ]
     },
     "metadata": {},
     "output_type": "display_data"
    },
    {
     "name": "stdout",
     "output_type": "stream",
     "text": [
      "Correct identifications: 0.8664\n",
      "True had least prob: 0.0074\n",
      "True had 2nd highest prob: 0.1262\n",
      "Sum for verification = 1.0\n"
     ]
    }
   ],
   "source": [
    "classes = ['no_sub','axion','cdm']\n",
    "for i in range(3):\n",
    "    plt.plot(lr_curves[i][0], lr_curves[i][1], marker='.', label='%s substructure: %.3f'%(classes[i],aucs[i][1]))\n",
    "plt.plot(ns_curves[0][0], ns_curves[0][1], linestyle='--', label='No Skill: %.3f'%(aucs[0][0]))\n",
    "# axis labels\n",
    "plt.xlabel('False Positive Rate')\n",
    "plt.ylabel('True Positive Rate')\n",
    "# show the legend\n",
    "plt.legend()\n",
    "# show the plot\n",
    "plt.show()\n",
    "print(\"Correct identifications: %s\\nTrue had least prob: %s\\nTrue had 2nd highest prob: %s\\nSum for verification = %s\"%(best_case/len(ys),worst_case/len(ys),mid_case/len(ys),(best_case+worst_case+mid_case)/len(ys)))"
   ]
  }
 ],
 "metadata": {
  "kernelspec": {
   "display_name": ".env",
   "language": "python",
   "name": "python3"
  },
  "language_info": {
   "codemirror_mode": {
    "name": "ipython",
    "version": 3
   },
   "file_extension": ".py",
   "mimetype": "text/x-python",
   "name": "python",
   "nbconvert_exporter": "python",
   "pygments_lexer": "ipython3",
   "version": "3.10.12"
  }
 },
 "nbformat": 4,
 "nbformat_minor": 2
}
