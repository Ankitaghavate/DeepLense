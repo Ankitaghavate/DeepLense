{
 "cells": [
  {
   "cell_type": "code",
   "execution_count": 1,
   "metadata": {},
   "outputs": [
    {
     "name": "stdout",
     "output_type": "stream",
     "text": [
      "cuda\n"
     ]
    }
   ],
   "source": [
    "import torch\n",
    "import data\n",
    "import tqdm\n",
    "import models\n",
    "import numpy as np\n",
    "import json\n",
    "device = torch.device(\"cuda\" if torch.cuda.is_available() else \"cpu\")\n",
    "print(device)"
   ]
  },
  {
   "cell_type": "code",
   "execution_count": 2,
   "metadata": {},
   "outputs": [],
   "source": [
    "with open('config.json') as config_file:\n",
    "    config = json.load(config_file)"
   ]
  },
  {
   "cell_type": "code",
   "execution_count": 3,
   "metadata": {},
   "outputs": [],
   "source": [
    "IN_SHAPE = config[\"image_shape\"]\n",
    "MAGNIFICATION = config[\"magnification\"]\n",
    "N_MAG = config[\"n_magnification\"]\n",
    "resolution = config[\"resolution\"]/(MAGNIFICATION*N_MAG)\n",
    "source_scaling = config[\"source_scaling\"]"
   ]
  },
  {
   "cell_type": "code",
   "execution_count": 4,
   "metadata": {},
   "outputs": [],
   "source": [
    "BATCH_SIZE = 5\n",
    "dataset = data.LensingDataset('/home/anirudh/Documents/GSoC/LensSR/Simulations/data_model_1/',['no_sub_sie_noise'],5000)\n",
    "hr_dataset = data.LensingDataset('/home/anirudh/Documents/GSoC/LensSR/Simulations/data_model_1/',['no_sub_sie_noise_HR'],5000)"
   ]
  },
  {
   "cell_type": "code",
   "execution_count": 5,
   "metadata": {},
   "outputs": [
    {
     "data": {
      "text/plain": [
       "<All keys matched successfully>"
      ]
     },
     "execution_count": 5,
     "metadata": {},
     "output_type": "execute_result"
    }
   ],
   "source": [
    "i_model = models.SISR(magnification=MAGNIFICATION, n_mag=N_MAG, residual_depth=config[\"i_depth\"], in_channels=1, latent_channel_count=config[\"i_latent_channels\"]).to(device)\n",
    "s_model = models.SISR(magnification=MAGNIFICATION, n_mag=N_MAG, residual_depth=config[\"s_depth\"], in_channels=1, latent_channel_count=config[\"i_latent_channels\"]).to(device)\n",
    "\n",
    "alpha = torch.tensor([[config[\"alpha\"] for _ in range(IN_SHAPE*MAGNIFICATION*N_MAG)] for __ in range(IN_SHAPE*MAGNIFICATION*N_MAG)]).to(device)\n",
    "phy_loss = models.LensingLoss(in_shape=IN_SHAPE*MAGNIFICATION*N_MAG,device=device,alpha=alpha, resolution=resolution, BATCH_SIZE=BATCH_SIZE, source_scaling=source_scaling).to(device)\n",
    "i_model.load_state_dict(torch.load('i_weight_sie_noise.pt'))\n",
    "s_model.load_state_dict(torch.load('s_weight_sie_noise.pt'))"
   ]
  },
  {
   "cell_type": "code",
   "execution_count": 6,
   "metadata": {},
   "outputs": [],
   "source": [
    "def PSNR(mse): \n",
    "    \"\"\"\n",
    "    Computes the peak-signal to noise ratio\n",
    "\n",
    "    :param mse: MSE to calculate from\n",
    "    :return: PSNR value\n",
    "    \"\"\" \n",
    "    if(mse == 0):  # MSE is zero means no noise is present in the signal . \n",
    "                  # Therefore PSNR have no importance. \n",
    "        return 100\n",
    "    max_pixel = 1.0\n",
    "    psnr = 20 * np.log10(max_pixel / np.sqrt(mse)) \n",
    "    return psnr\n",
    "\n",
    "from skimage.metrics import structural_similarity\n",
    "history = {'loss':[],'SSIM':[], 'PSNR':[]}\n",
    "\n",
    "def get_images(dataset, model1, length, i=None, plot=False):\n",
    "    \"\"\"\n",
    "    To display a random image for illustration\n",
    "\n",
    "    :param dataset: Dataset used\n",
    "    :param model: Model used\n",
    "    :param length: Length of dataset used\n",
    "    :return: original LR image, SR image, original HR image\n",
    "    \"\"\"\n",
    "    if i == None:\n",
    "        i = np.random.randint(low=0,high=length)\n",
    "    LR = dataset[i].view(1,1,IN_SHAPE,IN_SHAPE)\n",
    "    HR = hr_dataset[i].view(1,1,IN_SHAPE*MAGNIFICATION,IN_SHAPE*MAGNIFICATION)\n",
    "    image = model1(LR.float().to(device)).cpu().detach()\n",
    "    return image[0][0], HR[0][0]"
   ]
  },
  {
   "cell_type": "code",
   "execution_count": 7,
   "metadata": {},
   "outputs": [
    {
     "name": "stderr",
     "output_type": "stream",
     "text": [
      "100%|██████████| 5000/5000 [00:27<00:00, 183.78it/s]"
     ]
    },
    {
     "name": "stdout",
     "output_type": "stream",
     "text": [
      "Evaluation completed with \n",
      "MSE: 0.004130962985521182 (0.0008128396511489788)\n",
      "SSIM: 0.639440222689802 (0.06059367249649303)\n",
      "PSNR:  23.917979799713777 (0.8159711734317621)\n"
     ]
    },
    {
     "name": "stderr",
     "output_type": "stream",
     "text": [
      "\n"
     ]
    }
   ],
   "source": [
    "for i in tqdm.tqdm(range(len(dataset))):\n",
    "    image, HR = get_images(dataset, i_model, len(dataset), i)\n",
    "    loss = torch.nn.functional.mse_loss(image, HR)\n",
    "    history['loss'].append(float(loss))\n",
    "    image, HR = image.numpy(), HR.numpy()\n",
    "    history['SSIM'].append(structural_similarity(image,\n",
    "                                                 HR,data_range=1.0))\n",
    "    history['PSNR'].append(PSNR(float(loss)))\n",
    "print(f\"Evaluation completed with \\nMSE: {np.mean(history['loss'])} ({np.std(history['loss'])})\\nSSIM: {np.mean(history['SSIM'])} ({np.std(history['SSIM'])})\\nPSNR:  {np.mean(history['PSNR'])} ({np.std(history['PSNR'])})\")"
   ]
  },
  {
   "cell_type": "code",
   "execution_count": 12,
   "metadata": {},
   "outputs": [
    {
     "data": {
      "text/plain": [
       "<matplotlib.legend.Legend at 0x7e4f13d2a950>"
      ]
     },
     "execution_count": 12,
     "metadata": {},
     "output_type": "execute_result"
    },
    {
     "data": {
      "image/png": "[encoded data removed]",
      "text/plain": [
       "<Figure size 1200x400 with 3 Axes>"
      ]
     },
     "metadata": {},
     "output_type": "display_data"
    }
   ],
   "source": [
    "import matplotlib.pyplot as plt\n",
    "plot, axes = plt.subplots(1,3)\n",
    "plot.set_size_inches(12,4)\n",
    "axes[0].hist(history['loss'],20,label='MSE')\n",
    "axes[1].hist(history['SSIM'],20,label='SSIM')\n",
    "axes[2].hist(history['PSNR'],20,label='PSNR')\n",
    "axes[0].legend()\n",
    "axes[1].legend()\n",
    "axes[2].legend()"
   ]
  },
  {
   "cell_type": "code",
   "execution_count": 8,
   "metadata": {},
   "outputs": [
    {
     "data": {
      "text/plain": [
       "'\\nSIE\\n\\n100%|██████████| 5000/5000 [00:25<00:00, 192.95it/s]\\nEvaluation completed with \\nMSE: 0.004474920933879912 (0.0013816138672191989)\\nSSIM: 0.6137583619556546 (0.05351255738862998)\\nPSNR:  23.66090986287153 (1.160199189644181)\\n'"
      ]
     },
     "execution_count": 8,
     "metadata": {},
     "output_type": "execute_result"
    }
   ],
   "source": [
    "\"\"\"\n",
    "SIS\n",
    "\n",
    "100%|██████████| 5000/5000 [00:28<00:00, 176.33it/s]Evaluation completed with \n",
    "MSE: 0.006205329769244417 (0.0021702369226974665)\n",
    "SSIM: 0.6398297842059227 (0.0561791079220963)\n",
    "PSNR:  22.271652309471122 (1.2391140310636526)\n",
    "\"\"\"\n",
    "\n",
    "\"\"\"\n",
    "SIS w noise\n",
    "\n",
    "100%|██████████| 5000/5000 [00:25<00:00, 192.62it/s]Evaluation completed with \n",
    "MSE: 0.003995750087592751 (0.0008923668387240758)\n",
    "SSIM: 0.6551615977904781 (0.06846530797572699)\n",
    "PSNR:  24.081966545589314 (0.9053197811409819)\n",
    "\"\"\"\n",
    "\n",
    "\"\"\"\n",
    "SIE with SIS lens\n",
    "\n",
    "100%|██████████| 5000/5000 [00:30<00:00, 166.01it/s]\n",
    "Evaluation completed with \n",
    "MSE: 0.0046506861953064796 (0.0012477830671723134)\n",
    "SSIM: 0.5933275393505997 (0.047542952201963855)\n",
    "PSNR:  23.46127849210275 (1.0589321804357954)\n",
    "\"\"\"\n",
    "\n",
    "\"\"\"\n",
    "SIE\n",
    "\n",
    "100%|██████████| 5000/5000 [00:25<00:00, 192.95it/s]\n",
    "Evaluation completed with \n",
    "MSE: 0.004474920933879912 (0.0013816138672191989)\n",
    "SSIM: 0.6137583619556546 (0.05351255738862998)\n",
    "PSNR:  23.66090986287153 (1.160199189644181)\n",
    "\"\"\"\n",
    "\n",
    "\"\"\"\n",
    "SIE w noise\n",
    "\n",
    "100%|██████████| 5000/5000 [00:27<00:00, 183.78it/s]Evaluation completed with \n",
    "MSE: 0.004130962985521182 (0.0008128396511489788)\n",
    "SSIM: 0.639440222689802 (0.06059367249649303)\n",
    "PSNR:  23.917979799713777 (0.8159711734317621)\n",
    "\"\"\""
   ]
  }
 ],
 "metadata": {
  "kernelspec": {
   "display_name": "Python 3",
   "language": "python",
   "name": "python3"
  },
  "language_info": {
   "codemirror_mode": {
    "name": "ipython",
    "version": 3
   },
   "file_extension": ".py",
   "mimetype": "text/x-python",
   "name": "python",
   "nbconvert_exporter": "python",
   "pygments_lexer": "ipython3",
   "version": "3.10.12"
  }
 },
 "nbformat": 4,
 "nbformat_minor": 2
}
