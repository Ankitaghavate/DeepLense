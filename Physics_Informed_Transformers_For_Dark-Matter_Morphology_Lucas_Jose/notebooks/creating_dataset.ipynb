{
  "cells": [
    {
      "cell_type": "markdown",
      "metadata": {
        "id": "view-in-github",
        "colab_type": "text"
      },
      "source": [
        "<a href=\"https://colab.research.google.com/github/SVJLucas/DeepLense/blob/main/CreatingDataset.ipynb\" target=\"_parent\"><img src=\"https://colab.research.google.com/assets/colab-badge.svg\" alt=\"Open In Colab\"/></a>"
      ]
    },
    {
      "cell_type": "markdown",
      "metadata": {
        "id": "jxT05lANYgIK"
      },
      "source": [
        "# Downloading Dataset"
      ]
    },
    {
      "cell_type": "code",
      "execution_count": null,
      "metadata": {
        "colab": {
          "base_uri": "https://localhost:8080/"
        },
        "id": "rauc9KbKX9oI",
        "outputId": "f7ae7bdd-169a-4d42-88bf-f8ac4e576ebd"
      },
      "outputs": [
        {
          "output_type": "stream",
          "name": "stdout",
          "text": [
            "--2023-09-22 11:12:28--  https://astro.utoronto.ca/~hleung/shared/Galaxy10/Galaxy10_DECals.h5\n",
            "Resolving astro.utoronto.ca (astro.utoronto.ca)... 142.1.217.162\n",
            "Connecting to astro.utoronto.ca (astro.utoronto.ca)|142.1.217.162|:443... connected.\n",
            "WARNING: cannot verify astro.utoronto.ca's certificate, issued by ‘CN=Sectigo RSA Organization Validation Secure Server CA,O=Sectigo Limited,L=Salford,ST=Greater Manchester,C=GB’:\n",
            "  Unable to locally verify the issuer's authority.\n",
            "HTTP request sent, awaiting response... 301 Moved Permanently\n",
            "Location: https://www.astro.utoronto.ca/~hleung/shared/Galaxy10/Galaxy10_DECals.h5 [following]\n",
            "--2023-09-22 11:12:28--  https://www.astro.utoronto.ca/~hleung/shared/Galaxy10/Galaxy10_DECals.h5\n",
            "Resolving www.astro.utoronto.ca (www.astro.utoronto.ca)... 128.100.89.92\n",
            "Connecting to www.astro.utoronto.ca (www.astro.utoronto.ca)|128.100.89.92|:443... connected.\n",
            "HTTP request sent, awaiting response... 200 OK\n",
            "Length: 2735267419 (2.5G)\n",
            "Saving to: ‘Galaxy10_DECals.h5’\n",
            "\n",
            "Galaxy10_DECals.h5  100%[===================>]   2.55G  87.9MB/s    in 30s     \n",
            "\n",
            "2023-09-22 11:12:58 (87.0 MB/s) - ‘Galaxy10_DECals.h5’ saved [2735267419/2735267419]\n",
            "\n"
          ]
        }
      ],
      "source": [
        "!wget https://astro.utoronto.ca/~hleung/shared/Galaxy10/Galaxy10_DECals.h5 -O Galaxy10_DECals.h5 --no-check-certificate"
      ]
    },
    {
      "cell_type": "markdown",
      "metadata": {
        "id": "tb8GBhlNYi0u"
      },
      "source": [
        "# Installing Libraries"
      ]
    },
    {
      "cell_type": "code",
      "execution_count": null,
      "metadata": {
        "colab": {
          "base_uri": "https://localhost:8080/",
          "height": 1000
        },
        "id": "2ir3-s40XzF8",
        "outputId": "fb72cce7-335d-4b6e-fe8b-85ddd9314be8"
      },
      "outputs": [
        {
          "output_type": "stream",
          "name": "stdout",
          "text": [
            "Collecting lenstronomy\n",
            "  Downloading lenstronomy-1.11.3.tar.gz (1.6 MB)\n",
            "\u001b[2K     \u001b[90m━━━━━━━━━━━━━━━━━━━━━━━━━━━━━━━━━━━━━━━━\u001b[0m \u001b[32m1.6/1.6 MB\u001b[0m \u001b[31m16.5 MB/s\u001b[0m eta \u001b[36m0:00:00\u001b[0m\n",
            "\u001b[?25h  Preparing metadata (setup.py) ... \u001b[?25l\u001b[?25hdone\n",
            "Requirement already satisfied: numpy>=1.13 in /usr/local/lib/python3.10/dist-packages (from lenstronomy) (1.23.5)\n",
            "Requirement already satisfied: scipy>=0.19.1 in /usr/local/lib/python3.10/dist-packages (from lenstronomy) (1.11.2)\n",
            "Collecting configparser (from lenstronomy)\n",
            "  Downloading configparser-6.0.0-py3-none-any.whl (19 kB)\n",
            "Requirement already satisfied: astropy in /usr/local/lib/python3.10/dist-packages (from lenstronomy) (5.3.3)\n",
            "Requirement already satisfied: mpmath in /usr/local/lib/python3.10/dist-packages (from lenstronomy) (1.3.0)\n",
            "Requirement already satisfied: matplotlib in /usr/local/lib/python3.10/dist-packages (from lenstronomy) (3.7.1)\n",
            "Requirement already satisfied: scikit-learn in /usr/local/lib/python3.10/dist-packages (from lenstronomy) (1.2.2)\n",
            "Requirement already satisfied: numba>=0.43.1 in /usr/local/lib/python3.10/dist-packages (from lenstronomy) (0.56.4)\n",
            "Collecting corner>=2.2.1 (from lenstronomy)\n",
            "  Downloading corner-2.2.2-py3-none-any.whl (15 kB)\n",
            "Requirement already satisfied: scikit-image in /usr/local/lib/python3.10/dist-packages (from lenstronomy) (0.19.3)\n",
            "Requirement already satisfied: pyyaml in /usr/local/lib/python3.10/dist-packages (from lenstronomy) (6.0.1)\n",
            "Requirement already satisfied: h5py in /usr/local/lib/python3.10/dist-packages (from lenstronomy) (3.9.0)\n",
            "Collecting pyxdg (from lenstronomy)\n",
            "  Downloading pyxdg-0.28-py2.py3-none-any.whl (49 kB)\n",
            "\u001b[2K     \u001b[90m━━━━━━━━━━━━━━━━━━━━━━━━━━━━━━━━━━━━━━━━\u001b[0m \u001b[32m49.5/49.5 kB\u001b[0m \u001b[31m5.1 MB/s\u001b[0m eta \u001b[36m0:00:00\u001b[0m\n",
            "\u001b[?25hCollecting schwimmbad (from lenstronomy)\n",
            "  Downloading schwimmbad-0.3.2.tar.gz (24 kB)\n",
            "  Installing build dependencies ... \u001b[?25l\u001b[?25hdone\n",
            "  Getting requirements to build wheel ... \u001b[?25l\u001b[?25hdone\n",
            "  Preparing metadata (pyproject.toml) ... \u001b[?25l\u001b[?25hdone\n",
            "Collecting multiprocess>=0.70.8 (from lenstronomy)\n",
            "  Downloading multiprocess-0.70.15-py310-none-any.whl (134 kB)\n",
            "\u001b[2K     \u001b[90m━━━━━━━━━━━━━━━━━━━━━━━━━━━━━━━━━━━━━━\u001b[0m \u001b[32m134.8/134.8 kB\u001b[0m \u001b[31m14.6 MB/s\u001b[0m eta \u001b[36m0:00:00\u001b[0m\n",
            "\u001b[?25hRequirement already satisfied: contourpy>=1.0.1 in /usr/local/lib/python3.10/dist-packages (from matplotlib->lenstronomy) (1.1.0)\n",
            "Requirement already satisfied: cycler>=0.10 in /usr/local/lib/python3.10/dist-packages (from matplotlib->lenstronomy) (0.11.0)\n",
            "Requirement already satisfied: fonttools>=4.22.0 in /usr/local/lib/python3.10/dist-packages (from matplotlib->lenstronomy) (4.42.1)\n",
            "Requirement already satisfied: kiwisolver>=1.0.1 in /usr/local/lib/python3.10/dist-packages (from matplotlib->lenstronomy) (1.4.5)\n",
            "Requirement already satisfied: packaging>=20.0 in /usr/local/lib/python3.10/dist-packages (from matplotlib->lenstronomy) (23.1)\n",
            "Requirement already satisfied: pillow>=6.2.0 in /usr/local/lib/python3.10/dist-packages (from matplotlib->lenstronomy) (9.4.0)\n",
            "Requirement already satisfied: pyparsing>=2.3.1 in /usr/local/lib/python3.10/dist-packages (from matplotlib->lenstronomy) (3.1.1)\n",
            "Requirement already satisfied: python-dateutil>=2.7 in /usr/local/lib/python3.10/dist-packages (from matplotlib->lenstronomy) (2.8.2)\n",
            "Collecting dill>=0.3.7 (from multiprocess>=0.70.8->lenstronomy)\n",
            "  Downloading dill-0.3.7-py3-none-any.whl (115 kB)\n",
            "\u001b[2K     \u001b[90m━━━━━━━━━━━━━━━━━━━━━━━━━━━━━━━━━━━━━━\u001b[0m \u001b[32m115.3/115.3 kB\u001b[0m \u001b[31m11.9 MB/s\u001b[0m eta \u001b[36m0:00:00\u001b[0m\n",
            "\u001b[?25hRequirement already satisfied: llvmlite<0.40,>=0.39.0dev0 in /usr/local/lib/python3.10/dist-packages (from numba>=0.43.1->lenstronomy) (0.39.1)\n",
            "Requirement already satisfied: setuptools in /usr/local/lib/python3.10/dist-packages (from numba>=0.43.1->lenstronomy) (67.7.2)\n",
            "Requirement already satisfied: pyerfa>=2.0 in /usr/local/lib/python3.10/dist-packages (from astropy->lenstronomy) (2.0.0.3)\n",
            "Requirement already satisfied: networkx>=2.2 in /usr/local/lib/python3.10/dist-packages (from scikit-image->lenstronomy) (3.1)\n",
            "Requirement already satisfied: imageio>=2.4.1 in /usr/local/lib/python3.10/dist-packages (from scikit-image->lenstronomy) (2.31.3)\n",
            "Requirement already satisfied: tifffile>=2019.7.26 in /usr/local/lib/python3.10/dist-packages (from scikit-image->lenstronomy) (2023.8.30)\n",
            "Requirement already satisfied: PyWavelets>=1.1.1 in /usr/local/lib/python3.10/dist-packages (from scikit-image->lenstronomy) (1.4.1)\n",
            "Requirement already satisfied: joblib>=1.1.1 in /usr/local/lib/python3.10/dist-packages (from scikit-learn->lenstronomy) (1.3.2)\n",
            "Requirement already satisfied: threadpoolctl>=2.0.0 in /usr/local/lib/python3.10/dist-packages (from scikit-learn->lenstronomy) (3.2.0)\n",
            "Requirement already satisfied: six>=1.5 in /usr/local/lib/python3.10/dist-packages (from python-dateutil>=2.7->matplotlib->lenstronomy) (1.16.0)\n",
            "Building wheels for collected packages: lenstronomy, schwimmbad\n",
            "  Building wheel for lenstronomy (setup.py) ... \u001b[?25l\u001b[?25hdone\n",
            "  Created wheel for lenstronomy: filename=lenstronomy-1.11.3-py3-none-any.whl size=1137335 sha256=61c263fbd709129412e277d7044f06c15ae8147c686f7a6d8fda4048431d74bc\n",
            "  Stored in directory: /root/.cache/pip/wheels/5c/eb/d3/730a5c48efd0000c423da86bf917195f19d69d4b55acdaf025\n",
            "  Building wheel for schwimmbad (pyproject.toml) ... \u001b[?25l\u001b[?25hdone\n",
            "  Created wheel for schwimmbad: filename=schwimmbad-0.3.2-py3-none-any.whl size=15729 sha256=183c1b8c38d90e2a7a3e4a84d912d436f9189797945a6d877b43394fa38a0f2e\n",
            "  Stored in directory: /root/.cache/pip/wheels/4a/ea/3e/b79646d96eaea548b8eec6d2caed656a3c7f17ce5f264484b8\n",
            "Successfully built lenstronomy schwimmbad\n",
            "Installing collected packages: pyxdg, schwimmbad, dill, configparser, multiprocess, corner, lenstronomy\n",
            "Successfully installed configparser-6.0.0 corner-2.2.2 dill-0.3.7 lenstronomy-1.11.3 multiprocess-0.70.15 pyxdg-0.28 schwimmbad-0.3.2\n"
          ]
        },
        {
          "output_type": "display_data",
          "data": {
            "application/vnd.colab-display-data+json": {
              "pip_warning": {
                "packages": [
                  "configparser"
                ]
              }
            }
          },
          "metadata": {}
        },
        {
          "output_type": "stream",
          "name": "stdout",
          "text": [
            "Collecting pyHalo\n",
            "  Downloading pyhalo-1.0.0-py3-none-any.whl (149 kB)\n",
            "\u001b[2K     \u001b[90m━━━━━━━━━━━━━━━━━━━━━━━━━━━━━━━━━━━━━━━\u001b[0m \u001b[32m149.0/149.0 kB\u001b[0m \u001b[31m3.2 MB/s\u001b[0m eta \u001b[36m0:00:00\u001b[0m\n",
            "\u001b[?25hRequirement already satisfied: Click>=6.0 in /usr/local/lib/python3.10/dist-packages (from pyHalo) (8.1.7)\n",
            "Installing collected packages: pyHalo\n",
            "Successfully installed pyHalo-1.0.0\n",
            "Collecting colossus\n",
            "  Downloading colossus-1.3.2-py2.py3-none-any.whl (204 kB)\n",
            "\u001b[2K     \u001b[90m━━━━━━━━━━━━━━━━━━━━━━━━━━━━━━━━━━━━━━━\u001b[0m \u001b[32m205.0/205.0 kB\u001b[0m \u001b[31m3.8 MB/s\u001b[0m eta \u001b[36m0:00:00\u001b[0m\n",
            "\u001b[?25hInstalling collected packages: colossus\n",
            "Successfully installed colossus-1.3.2\n"
          ]
        }
      ],
      "source": [
        "!pip install lenstronomy\n",
        "!pip install pyHalo\n",
        "!pip install colossus"
      ]
    },
    {
      "cell_type": "markdown",
      "metadata": {
        "id": "y0EnDhtuZZQX"
      },
      "source": [
        "# Importing Libraries"
      ]
    },
    {
      "cell_type": "code",
      "execution_count": null,
      "metadata": {
        "id": "tXl9HmOuZbL2"
      },
      "outputs": [],
      "source": [
        "from tqdm import tqdm\n",
        "\n",
        "\n",
        "import copy\n",
        "import numpy as np\n",
        "from PIL import Image\n",
        "import matplotlib.pyplot as plt\n",
        "import h5py\n",
        "import random\n",
        "\n",
        "# lenstronomy module import\n",
        "import lenstronomy.Util.data_util as data_util\n",
        "import lenstronomy.Util.util as util\n",
        "import lenstronomy.Plots.plot_util as plot_util\n",
        "from lenstronomy.SimulationAPI.sim_api import SimAPI\n",
        "from lenstronomy.LightModel.Profiles.gaussian import GaussianEllipse\n",
        "gauss = GaussianEllipse()\n",
        "\n",
        "\n",
        "\n",
        "# Define a specific cosmology\n",
        "from astropy.cosmology import FlatLambdaCDM\n",
        "cosmo = FlatLambdaCDM(H0=70, Om0=0.3, Ob0=0.)\n",
        "\n",
        "\n",
        "# Instrument setting from pre-defined configurations\n",
        "from lenstronomy.SimulationAPI.ObservationConfig.Euclid import Euclid\n",
        "\n",
        "Euclid_g = Euclid(band='VIS', psf_type='GAUSSIAN', coadd_years=6)\n",
        "kwargs_g_band = Euclid_g.kwargs_single_band()\n",
        "Euclid_r = Euclid(band='VIS', psf_type='GAUSSIAN', coadd_years=6)\n",
        "kwargs_r_band = Euclid_r.kwargs_single_band()\n",
        "Euclid_i = Euclid(band='VIS', psf_type='GAUSSIAN', coadd_years=6)\n",
        "kwargs_i_band = Euclid_i.kwargs_single_band()\n",
        "\n",
        "from pyHalo.preset_models import CDM\n",
        "from pyHalo.Halos.lens_cosmo import LensCosmo\n",
        "from pyHalo.single_realization import SingleHalo\n",
        "\n",
        "from lenstronomy.LensModel.Profiles.cnfw import CNFW\n",
        "from lenstronomy.LensModel.Profiles.nfw import NFW\n",
        "from lenstronomy.LensModel.lens_model import LensModel\n",
        "from lenstronomy.LensModel.lens_model_extensions import LensModelExtensions"
      ]
    },
    {
      "cell_type": "markdown",
      "metadata": {
        "id": "TzeZbjmZYzH2"
      },
      "source": [
        "# Opening the dataset"
      ]
    },
    {
      "cell_type": "code",
      "execution_count": null,
      "metadata": {
        "id": "Rled_ImrY1Bh"
      },
      "outputs": [],
      "source": [
        "################################################\n",
        "######### Load real galaxies\n",
        "################################################\n",
        "# To get the images and labels from file\n",
        "with h5py.File('/content/Galaxy10_DECals.h5', 'r') as F:\n",
        "    images = np.array(F['images'])\n",
        "    typ = np.array(F['ans'])\n",
        "    z = np.array(F['redshift'])\n",
        "\n",
        "unbarred_spiral = np.where(typ == 6)\n",
        "images_ref = images[unbarred_spiral]\n",
        "z_ref = z[unbarred_spiral]\n",
        "\n",
        "indx_img_zp1 = np.where(z_ref < 0.02)\n",
        "img_zp1 = images_ref[indx_img_zp1]\n",
        "# good galaxies, checked by eye\n",
        "arr = [2,3,5,6,7,8,9,10,11,12,13,14,15,16,17,19,20,21,22,23,24,25,26,27,28,29,30,31,35,36,37,38,39,40,41,42,43,44,45,46,47,48,49,50,51,54,55]\n",
        "#################################################"
      ]
    },
    {
      "cell_type": "markdown",
      "metadata": {
        "id": "Vklhx50lYpor"
      },
      "source": [
        "# Defining Simulation Functions"
      ]
    },
    {
      "cell_type": "markdown",
      "metadata": {
        "id": "_k4Hu3LkZt4f"
      },
      "source": [
        "## No-sub"
      ]
    },
    {
      "cell_type": "code",
      "execution_count": null,
      "metadata": {
        "id": "EJoCheU0YuM2"
      },
      "outputs": [],
      "source": [
        "import copy\n",
        "import numpy as np\n",
        "from PIL import Image\n",
        "import matplotlib.pyplot as plt\n",
        "import h5py\n",
        "import random\n",
        "\n",
        "from scipy.ndimage import gaussian_filter\n",
        "\n",
        "# lenstronomy module import\n",
        "import lenstronomy.Util.data_util as data_util\n",
        "import lenstronomy.Util.util as util\n",
        "import lenstronomy.Plots.plot_util as plot_util\n",
        "from lenstronomy.SimulationAPI.sim_api import SimAPI\n",
        "from lenstronomy.LightModel.Profiles.gaussian import GaussianEllipse\n",
        "gauss = GaussianEllipse()\n",
        "\n",
        "# define normalized 2D gaussian\n",
        "def gaus2d(x=0, y=0, mx=0, my=0, sx=1, sy=1):\n",
        "    return 1. / (2. * np.pi * sx * sy) * np.exp(-((x - mx)**2. / (2. * sx**2.) + (y - my)**2. / (2. * sy**2.)))\n",
        "\n",
        "# Instrument setting from pre-defined configurations\n",
        "from lenstronomy.SimulationAPI.ObservationConfig.HST import HST\n",
        "#LSST_g = HST(band='WFC3_F160W', psf_type='GAUSSIAN')#, coadd_years=10)\n",
        "#kwargs_g_band = LSST_g.kwargs_single_band()\n",
        "\n",
        "from pyHalo.preset_models import ULDM\n",
        "from pyHalo.Halos.lens_cosmo import LensCosmo\n",
        "from pyHalo.single_realization import SingleHalo\n",
        "\n",
        "from lenstronomy.LensModel.Profiles.cnfw import CNFW\n",
        "from lenstronomy.LensModel.Profiles.nfw import NFW\n",
        "from lenstronomy.LensModel.lens_model import LensModel\n",
        "from lenstronomy.LensModel.lens_model_extensions import LensModelExtensions\n",
        "\n",
        "\n",
        "#Tailored individual settings (as an example):\n",
        "\n",
        "\"\"\"\n",
        "LSST_camera = {'read_noise': 10,  # std of noise generated by read-out (in units of electrons)\n",
        "               'pixel_scale': 0.05,  # scale (in arcseonds) of pixels\n",
        "               'ccd_gain': 4.5  # electrons/ADU (analog-to-digital unit). A gain of 8 means that the camera digitizes the CCD signal so that each ADU corresponds to 8 photoelectrons.\n",
        "              }\n",
        "\n",
        "LSST_g_band_obs = {'exposure_time': 60.,  # exposure time per image (in seconds)\n",
        "                   'sky_brightness': 20.0,  # sky brightness (in magnitude per square arcseconds)\n",
        "                   'magnitude_zero_point': 30,  # magnitude in which 1 count per second per arcsecond square is registered (in ADU's)\n",
        "                   'num_exposures': 1,  # number of exposures that are combined\n",
        "                   'seeing': 0.012,  # full width at half maximum of the PSF (if not specific psf_model is specified)\n",
        "                   'psf_type': 'GAUSSIAN',  # string, type of PSF ('GAUSSIAN' and 'PIXEL' supported)\n",
        "                   'kernel_point_source': None  # 2d numpy array, model of PSF centered with odd number of pixels per axis (optional when psf_type='PIXEL' is chosen)\n",
        "                  }\n",
        "\n",
        "# here we merge observations and instrument for the three bands\n",
        "kwargs_g_band = util.merge_dicts(LSST_camera, LSST_g_band_obs)\n",
        "\"\"\"\n",
        "\n",
        "\"\"\"\n",
        "# Instrument setting from pre-defined configurations\n",
        "from lenstronomy.SimulationAPI.ObservationConfig.HST import HST\n",
        "LSST_g = HST(band='WFC3_F160W', psf_type='GAUSSIAN')#, coadd_years=10)\n",
        "kwargs_g_band = LSST_g.kwargs_single_band()\n",
        "LSST_r = HST(band='WFC3_F160W', psf_type='GAUSSIAN')#, coadd_years=10)\n",
        "kwargs_r_band = LSST_r.kwargs_single_band()\n",
        "LSST_i = HST(band='WFC3_F160W', psf_type='GAUSSIAN')#, coadd_years=10)\n",
        "kwargs_i_band = LSST_i.kwargs_single_band()\n",
        "\"\"\"\n",
        "\n",
        "from lenstronomy.SimulationAPI.ObservationConfig.Euclid import Euclid\n",
        "\n",
        "Euclid_g = Euclid(band='VIS', psf_type='GAUSSIAN', coadd_years=6)\n",
        "kwargs_g_band = Euclid_g.kwargs_single_band()\n",
        "Euclid_r = Euclid(band='VIS', psf_type='GAUSSIAN', coadd_years=6)\n",
        "kwargs_r_band = Euclid_r.kwargs_single_band()\n",
        "Euclid_i = Euclid(band='VIS', psf_type='GAUSSIAN', coadd_years=6)\n",
        "kwargs_i_band = Euclid_i.kwargs_single_band()\n",
        "\n",
        "\n",
        "def simulate_no_sub(image_galaxy,axion_mass,Ens,source_pos_xx,source_pos_yy,source_ang,zlens=0.5,zsource=1.0):\n",
        "\n",
        "    #######################################################################\n",
        "\n",
        "    # pyHalo inputs to generate single ULDM halos\n",
        "    axion_mass = -21.5\n",
        "\n",
        "    profile_arg = {'log10_m_uldm': axion_mass,\n",
        "                     'uldm_plaw': 1/3,\n",
        "                     'scale_nfw':False,\n",
        "                     'evaluate_mc_at_zlens':True,\n",
        "                     'c_scatter':False}\n",
        "\n",
        "    # define the lens model of the main deflector\n",
        "    main_halo_type = 'SIE'  # You have many other possibilities available. Check out the SinglePlane class!\n",
        "    kwargs_lens_main = {'theta_E': Ens, 'e1': 0, 'e2': 0, 'center_x': 0, 'center_y': 0.}\n",
        "    kwargs_shear = {'gamma1': 0.05, 'gamma2': 0}\n",
        "    lens_model_macro = [main_halo_type, 'SHEAR']\n",
        "    kwargs_lens = [kwargs_lens_main, kwargs_shear]\n",
        "\n",
        "\n",
        "    log10_m_uldms, uldm_plaw, scale_nfw = axion_mass, 1/3, False  #Pq esses valores?\n",
        "\n",
        "    #realizationsULDM = ULDM(zlens, zsource, log10_m_uldm=log10_m_uldms, uldm_plaw=uldm_plaw, scale_nfw=scale_nfw) #Original\n",
        "    realizationsULDM = ULDM(zlens, zsource, log10_m_uldm=log10_m_uldms, uldm_plaw=uldm_plaw, flucs=scale_nfw)\n",
        "\n",
        "    # print(r'ULDM realization with log(m)=%s contains %s halos'\n",
        "    #          % (log10_m_uldms, len(realizationsULDM.halos)))\n",
        "\n",
        "\n",
        "    #lens_model_list, lens_redshift_array, kwargs_halos, numerical_deflection_class = realizationsULDM.lensing_quantities()\n",
        "    astropy_instance = realizationsULDM.astropy_instance\n",
        "\n",
        "    # cored halo + shear macromodel\n",
        "    kwargs_macromodel = kwargs_lens\n",
        "\n",
        "    lens_model_list_macro = lens_model_macro #[main_halo_type, 'SHEAR']#['CNFW','ULDM', 'SHEAR']\n",
        "\n",
        "    lens_model_list_full = lens_model_list_macro #+ lens_model_list\n",
        "    lens_redshift_list_full = [zlens, zlens] #+ list(lens_redshift_array)\n",
        "    kwargs_lens_full = kwargs_macromodel #+ kwargs_halos\n",
        "    kwargs_lens_list = kwargs_lens_full\n",
        "\n",
        "    kwargs_lens = kwargs_lens_full\n",
        "\n",
        "###############################################################################\n",
        "\n",
        "    kwargs_model_physical = {'lens_model_list': lens_model_list_full,  # list of lens models to be used\n",
        "                              'lens_redshift_list': lens_redshift_list_full,  # list of redshift of the deflections\n",
        "                              'lens_light_model_list': ['SERSIC_ELLIPSE', 'SERSIC_ELLIPSE'],  # list of unlensed light models to be used\n",
        "                              'source_light_model_list': ['INTERPOL'],  # list of extended source models to be used\n",
        "                              'source_redshift_list': [1.0],  # list of redshfits of the sources in same order as source_light_model_list\n",
        "                              'cosmo': astropy_instance,  # astropy.cosmology instance\n",
        "                              'z_source_convention': 2.5,  # source redshfit to which the reduced deflections are computed, is the maximal redshift of the ray-tracing\n",
        "                              'z_source': 2.5,}  # redshift of the default source (if not further specified by 'source_redshift_list') and also serves as the redshift of lensed point sources\n",
        "\n",
        "    #kwargs_mass = [{'sigma_v': sigma_v, 'center_x': 0, 'center_y': 0, 'e1': 0.0, 'e2': 0}]\n",
        "\n",
        "    kwargs_model_postit = kwargs_model_physical\n",
        "\n",
        "\n",
        "\n",
        "\n",
        "    ##########################################JOSEPH############################\n",
        "\n",
        "    kwargs_model_physical = {'lens_model_list': ['SIE'],  # list of lens models to be used\n",
        "                              'lens_redshift_list': [0.5],  # list of redshift of the deflections\n",
        "                              'lens_light_model_list': ['SERSIC_ELLIPSE', 'SERSIC_ELLIPSE'],  # list of unlensed light models to be used\n",
        "                              'source_light_model_list': ['INTERPOL'],  # list of extended source models to be used\n",
        "                              'source_redshift_list': [1.0],  # list of redshfits of the sources in same order as source_light_model_list\n",
        "                              'cosmo': cosmo,  # astropy.cosmology instance\n",
        "                              'z_source_convention': 2.5,  # source redshfit to which the reduced deflections are computed, is the maximal redshift of the ray-tracing\n",
        "                              'z_source': 2.5,}  # redshift of the default source (if not further specified by 'source_redshift_list') and also serves as the redshift of lensed point sources\n",
        "\n",
        "    sigma_v = np.random.normal(260,20)\n",
        "    kwargs_mass = [{'sigma_v': sigma_v, 'center_x': 0, 'center_y': 0, 'e1': 0.0, 'e2': 0}]\n",
        "\n",
        "    kwargs_model_postit = kwargs_model_physical\n",
        "\n",
        "    #######################################################################\n",
        "    numpix = 64  # number of pixels per axis of the image to be modelled\n",
        "\n",
        "    # here we define the numerical options used in the ImSim module.\n",
        "    # Have a look at the ImageNumerics class for detailed descriptions.\n",
        "    # If not further specified, the default settings are used.\n",
        "    kwargs_numerics = {'point_source_supersampling_factor': 1}\n",
        "\n",
        "\n",
        "\n",
        "\n",
        "    ###############################JOSEPH########################################\n",
        "\n",
        "\n",
        "\n",
        "\n",
        "    #######################################################################\n",
        "    numpix = 64  # number of pixels per axis of the image to be modelled\n",
        "\n",
        "    # here we define the numerical options used in the ImSim module.\n",
        "    # Have a look at the ImageNumerics class for detailed descriptions.\n",
        "    # If not further specified, the default settings are used.\n",
        "    kwargs_numerics = {'point_source_supersampling_factor': 1}\n",
        "\n",
        "\n",
        "    #######################################################################\n",
        "    sim_g = SimAPI(numpix=numpix, kwargs_single_band=kwargs_g_band, kwargs_model=kwargs_model_postit)\n",
        "\n",
        "    # return the ImSim instance. With this class instance, you can compute all the\n",
        "    # modelling accessible of the core modules. See class documentation and other notebooks.\n",
        "    imSim_g = sim_g.image_model_class(kwargs_numerics)\n",
        "\n",
        "    source_scale = 0.015#25\n",
        "\n",
        "    X,Y = source_pos_xx, source_pos_yy\n",
        "\n",
        "    # g-band\n",
        "    # lens light\n",
        "    image_data_g = image_galaxy.astype(float)\n",
        "    median_g = np.median(image_galaxy[:50, :50].astype(float))\n",
        "    image_data_g -= median_g\n",
        "\n",
        "    #kwargs_lens_light_mag_g = [{'magnitude': 16, 'image': image_gauss, 'scale': lens_scale, 'phi_G': 0, 'center_x': 0., 'center_y': 0}]\n",
        "    # lens light\n",
        "    kwargs_lens_light_mag_g = [{'magnitude':40, 'R_sersic': 0.4, 'n_sersic': 2.3, 'e1': 0, 'e2': 0.05, 'center_x': 0, 'center_y': 0},\n",
        "    {'magnitude': 40, 'R_sersic': 1.5, 'n_sersic': 1.2, 'e1': 0, 'e2': 0.3, 'center_x': 0, 'center_y': 0}]\n",
        "    kwargs_source_mag_g = [{'magnitude': np.random.normal(16,.1), 'image': image_data_g, 'scale': source_scale, 'phi_G': source_ang, 'center_x': X, 'center_y': Y}]\n",
        "\n",
        "    # and now we define the colors of the other two bands\n",
        "\n",
        "    # turn magnitude kwargs into lenstronomy kwargs\n",
        "    kwargs_lens_light_g, kwargs_source_g,_ = sim_g.magnitude2amplitude(kwargs_lens_light_mag_g, kwargs_source_mag_g)\n",
        "\n",
        "    #added then removed by me\n",
        "    kwargs_lens = sim_g.physical2lensing_conversion(kwargs_mass=kwargs_mass)\n",
        "    image_g = imSim_g.image(kwargs_lens, kwargs_source_g, kwargs_lens_light_g)\n",
        "\n",
        "    # add noise\n",
        "    image_g += sim_g.noise_for_model(model=image_g)\n",
        "\n",
        "    # save to output\n",
        "    #img = np.zeros((image_g.shape[0], image_g.shape[1], 3), dtype=float)\n",
        "    #img[:,:,0] = image_g#plot_util.sqrt(image_g, scale_min=0, scale_max=100)\n",
        "\n",
        "    return image_g, realizationsULDM\n",
        "\n",
        "\n",
        "#number_of_sims = int(2.5e4)\n",
        "\n",
        "def simulator_model_no_sub(parameter,img_zp1,return_points=False):\n",
        "\n",
        "    index = np.random.randint(0,len(img_zp1))\n",
        "\n",
        "    Ens,source_pos_xx,source_pos_yy, source_ang = np.random.normal(1.5,.5), np.random.uniform(-0.4,0.4), np.random.uniform(-0.4,0.4), np.random.uniform(-np.pi,np.pi)\n",
        "\n",
        "    # Calculate the 2d mask\n",
        "    x = np.linspace(-128, 128, 256)\n",
        "    y = np.linspace(-128, 128, 256)\n",
        "\n",
        "    # Convolve galaxy with a Gaussian filter to remove some noise\n",
        "    result = gaussian_filter(img_zp1[index][:,:,0], sigma=3)\n",
        "\n",
        "    \"\"\"\n",
        "    # Fit two Gaussians to the image compressed down the x and y axis. This will serve to infer the filter we will use.\n",
        "    axis_0 = np.sum(result,axis=0)\n",
        "    axis_0 = axis_0/np.max(axis_0)\n",
        "    axis_1 = np.sum(result,axis=1)\n",
        "    axis_1 = axis_1/np.max(axis_1)\n",
        "\n",
        "    # Fit the Gaussians\n",
        "    popt_0, pcov_0 = curve_fit(Gauss, x, axis_0, p0=[np.min(axis_0), np.max(axis_0), 0, 30], bounds=([0.,0.,-10.,10.], [1., 1.,10.,40]))\n",
        "    popt_1, pcov_1 = curve_fit(Gauss, y, axis_1, p0=[np.min(axis_1), np.max(axis_1), 0, 30], bounds=([0.,0.,-10.,10.], [1., 1.,10.,40]))\n",
        "    _,_,mu_0,std_0 = popt_0\n",
        "    _,_,mu_1,std_1 = popt_1\n",
        "    \"\"\"\n",
        "    mx, my, sx, sy = 0, 0, 25, 25\n",
        "\n",
        "    # full coorindate arrays\n",
        "    xx, yy = np.meshgrid(x, y)\n",
        "    zz = gaus2d(x=xx,y=yy,mx=mx, my=my,sx=sx, sy=sy)\n",
        "\n",
        "    \"\"\"\n",
        "    plt.figure(figsize=(10,5))\n",
        "    plt.subplot(1,2,1)\n",
        "    plt.imshow(result)\n",
        "    plt.subplot(1,2,2)\n",
        "    plt.imshow(zz*result)\n",
        "    plt.show()\"\"\"\n",
        "\n",
        "    sim, realizationsULDM = simulate_no_sub(result,parameter,Ens,source_pos_xx,source_pos_yy,source_ang)\n",
        "\n",
        "    \"\"\"\n",
        "    plt.figure(figsize=(6,6))\n",
        "    plt.imshow(sim)\n",
        "    plt.show()\"\"\"\n",
        "\n",
        "    # fix this, just temp fix to be between 0,1\n",
        "    return np.absolute(sim), parameter, zz*result, result\n",
        "\n",
        "def simulate_image_no_sub(img_zp1):\n",
        "  amass = -21.5\n",
        "  sim, mass, mask, orig = simulator_model_no_sub(amass,img_zp1)\n",
        "  return np.array(sim).clip(min=0)\n"
      ]
    },
    {
      "cell_type": "code",
      "execution_count": null,
      "metadata": {
        "colab": {
          "base_uri": "https://localhost:8080/",
          "height": 450
        },
        "id": "q-bwr8B6uoPs",
        "outputId": "10532646-23f0-4d9b-d9ad-36c6a60bcecb"
      },
      "outputs": [
        {
          "output_type": "execute_result",
          "data": {
            "text/plain": [
              "<matplotlib.image.AxesImage at 0x7b639bd22e00>"
            ]
          },
          "metadata": {},
          "execution_count": 11
        },
        {
          "output_type": "display_data",
          "data": {
            "text/plain": [
              "<Figure size 640x480 with 1 Axes>"
            ],
            "image/png": "[encoded data removed]"
          },
          "metadata": {}
        }
      ],
      "source": [
        "plt.imshow(simulate_image_no_sub(img_zp1),cmap='inferno')"
      ]
    },
    {
      "cell_type": "markdown",
      "metadata": {
        "id": "_6dkcipuaoJ1"
      },
      "source": [
        "## CDM"
      ]
    },
    {
      "cell_type": "code",
      "execution_count": null,
      "metadata": {
        "id": "wROMYN5bajx7"
      },
      "outputs": [],
      "source": [
        "import copy\n",
        "import numpy as np\n",
        "from PIL import Image\n",
        "import matplotlib.pyplot as plt\n",
        "import h5py\n",
        "import random\n",
        "\n",
        "from scipy.ndimage import gaussian_filter\n",
        "\n",
        "# lenstronomy module import\n",
        "import lenstronomy.Util.data_util as data_util\n",
        "import lenstronomy.Util.util as util\n",
        "import lenstronomy.Plots.plot_util as plot_util\n",
        "from lenstronomy.SimulationAPI.sim_api import SimAPI\n",
        "from lenstronomy.LightModel.Profiles.gaussian import GaussianEllipse\n",
        "gauss = GaussianEllipse()\n",
        "\n",
        "# define normalized 2D gaussian\n",
        "def gaus2d(x=0, y=0, mx=0, my=0, sx=1, sy=1):\n",
        "    return 1. / (2. * np.pi * sx * sy) * np.exp(-((x - mx)**2. / (2. * sx**2.) + (y - my)**2. / (2. * sy**2.)))\n",
        "\n",
        "# Instrument setting from pre-defined configurations\n",
        "from lenstronomy.SimulationAPI.ObservationConfig.HST import HST\n",
        "#LSST_g = HST(band='WFC3_F160W', psf_type='GAUSSIAN')#, coadd_years=10)\n",
        "#kwargs_g_band = LSST_g.kwargs_single_band()\n",
        "\n",
        "from pyHalo.preset_models import CDM\n",
        "from pyHalo.Halos.lens_cosmo import LensCosmo\n",
        "from pyHalo.single_realization import SingleHalo\n",
        "\n",
        "from lenstronomy.LensModel.Profiles.cnfw import CNFW\n",
        "from lenstronomy.LensModel.Profiles.nfw import NFW\n",
        "from lenstronomy.LensModel.lens_model import LensModel\n",
        "from lenstronomy.LensModel.lens_model_extensions import LensModelExtensions\n",
        "\n",
        "\n",
        "#Tailored individual settings (as an example):\n",
        "\n",
        "\"\"\"\n",
        "LSST_camera = {'read_noise': 10,  # std of noise generated by read-out (in units of electrons)\n",
        "               'pixel_scale': 0.05,  # scale (in arcseonds) of pixels\n",
        "               'ccd_gain': 4.5  # electrons/ADU (analog-to-digital unit). A gain of 8 means that the camera digitizes the CCD signal so that each ADU corresponds to 8 photoelectrons.\n",
        "              }\n",
        "\n",
        "LSST_g_band_obs = {'exposure_time': 60.,  # exposure time per image (in seconds)\n",
        "                   'sky_brightness': 20.0,  # sky brightness (in magnitude per square arcseconds)\n",
        "                   'magnitude_zero_point': 30,  # magnitude in which 1 count per second per arcsecond square is registered (in ADU's)\n",
        "                   'num_exposures': 1,  # number of exposures that are combined\n",
        "                   'seeing': 0.012,  # full width at half maximum of the PSF (if not specific psf_model is specified)\n",
        "                   'psf_type': 'GAUSSIAN',  # string, type of PSF ('GAUSSIAN' and 'PIXEL' supported)\n",
        "                   'kernel_point_source': None  # 2d numpy array, model of PSF centered with odd number of pixels per axis (optional when psf_type='PIXEL' is chosen)\n",
        "                  }\n",
        "\n",
        "# here we merge observations and instrument for the three bands\n",
        "kwargs_g_band = util.merge_dicts(LSST_camera, LSST_g_band_obs)\n",
        "\"\"\"\n",
        "\n",
        "\"\"\"\n",
        "# Instrument setting from pre-defined configurations\n",
        "from lenstronomy.SimulationAPI.ObservationConfig.HST import HST\n",
        "LSST_g = HST(band='WFC3_F160W', psf_type='GAUSSIAN')#, coadd_years=10)\n",
        "kwargs_g_band = LSST_g.kwargs_single_band()\n",
        "LSST_r = HST(band='WFC3_F160W', psf_type='GAUSSIAN')#, coadd_years=10)\n",
        "kwargs_r_band = LSST_r.kwargs_single_band()\n",
        "LSST_i = HST(band='WFC3_F160W', psf_type='GAUSSIAN')#, coadd_years=10)\n",
        "kwargs_i_band = LSST_i.kwargs_single_band()\n",
        "\"\"\"\n",
        "\n",
        "from lenstronomy.SimulationAPI.ObservationConfig.Euclid import Euclid\n",
        "\n",
        "Euclid_g = Euclid(band='VIS', psf_type='GAUSSIAN', coadd_years=6)\n",
        "kwargs_g_band = Euclid_g.kwargs_single_band()\n",
        "Euclid_r = Euclid(band='VIS', psf_type='GAUSSIAN', coadd_years=6)\n",
        "kwargs_r_band = Euclid_r.kwargs_single_band()\n",
        "Euclid_i = Euclid(band='VIS', psf_type='GAUSSIAN', coadd_years=6)\n",
        "kwargs_i_band = Euclid_i.kwargs_single_band()\n",
        "\n",
        "\n",
        "def simulate_cdm(image_galaxy,Ens,source_pos_xx,source_pos_yy,source_ang,zlens=0.5,zsource=1.0):\n",
        "\n",
        "    #######################################################################\n",
        "\n",
        "    # pyHalo inputs to generate single ULDM halos\n",
        "    #axion_mass = -21\n",
        "\n",
        "    #profile_arg = {'log10_m_uldm': axion_mass,\n",
        "    #                 'uldm_plaw': 1/3,\n",
        "    #                 'scale_nfw':False,\n",
        "    #                 'evaluate_mc_at_zlens':True,\n",
        "    #                 'c_scatter':False}\n",
        "\n",
        "    # define the lens model of the main deflector\n",
        "    main_halo_type = 'SIE'  # You have many other possibilities available. Check out the SinglePlane class!\n",
        "    kwargs_lens_main = {'theta_E': Ens, 'e1': 0, 'e2': 0, 'center_x': 0, 'center_y': 0.}\n",
        "    kwargs_shear = {'gamma1': 0.05, 'gamma2': 0}\n",
        "    lens_model_macro = [main_halo_type, 'SHEAR']\n",
        "    kwargs_lens = [kwargs_lens_main, kwargs_shear]\n",
        "\n",
        "\n",
        "    realizationsCDM = CDM(zlens, zsource,cone_opening_angle_arcsec=10)\n",
        "\n",
        "    # print(r'CDM realization contains %s halos'\n",
        "    #           % (len(realizationsCDM.halos)))\n",
        "\n",
        "\n",
        "    lens_model_list, lens_redshift_array, kwargs_halos, numerical_deflection_class = realizationsCDM.lensing_quantities()\n",
        "    astropy_instance = realizationsCDM.astropy_instance\n",
        "\n",
        "    # cored halo + shear macromodel\n",
        "    kwargs_macromodel = kwargs_lens\n",
        "\n",
        "    lens_model_list_macro = lens_model_macro #[main_halo_type, 'SHEAR']#['CNFW','ULDM', 'SHEAR']\n",
        "\n",
        "    lens_model_list_full = lens_model_list_macro + lens_model_list\n",
        "    lens_redshift_list_full = [zlens, zlens] + list(lens_redshift_array)\n",
        "    kwargs_lens_full = kwargs_macromodel + kwargs_halos\n",
        "    kwargs_lens_list = kwargs_lens_full\n",
        "\n",
        "    kwargs_lens = kwargs_lens_full\n",
        "\n",
        "###############################################################################\n",
        "\n",
        "    kwargs_model_physical = {'lens_model_list': lens_model_list_full,  # list of lens models to be used\n",
        "                              'lens_redshift_list': lens_redshift_list_full,  # list of redshift of the deflections\n",
        "                              'lens_light_model_list': ['SERSIC_ELLIPSE', 'SERSIC_ELLIPSE'],  # list of unlensed light models to be used\n",
        "                              'source_light_model_list': ['INTERPOL'],  # list of extended source models to be used\n",
        "                              'source_redshift_list': [1.0],  # list of redshfits of the sources in same order as source_light_model_list\n",
        "                              'cosmo': astropy_instance,  # astropy.cosmology instance\n",
        "                              'z_source_convention': 2.5,  # source redshfit to which the reduced deflections are computed, is the maximal redshift of the ray-tracing\n",
        "                              'z_source': 2.5,}  # redshift of the default source (if not further specified by 'source_redshift_list') and also serves as the redshift of lensed point sources\n",
        "\n",
        "    #kwargs_mass = [{'sigma_v': sigma_v, 'center_x': 0, 'center_y': 0, 'e1': 0.0, 'e2': 0}]\n",
        "\n",
        "    kwargs_model_postit = kwargs_model_physical\n",
        "\n",
        "\n",
        "    #######################################################################\n",
        "    numpix = 64  # number of pixels per axis of the image to be modelled\n",
        "\n",
        "    # here we define the numerical options used in the ImSim module.\n",
        "    # Have a look at the ImageNumerics class for detailed descriptions.\n",
        "    # If not further specified, the default settings are used.\n",
        "    kwargs_numerics = {'point_source_supersampling_factor': 1}\n",
        "\n",
        "\n",
        "    #######################################################################\n",
        "    sim_g = SimAPI(numpix=numpix, kwargs_single_band=kwargs_g_band, kwargs_model=kwargs_model_postit)\n",
        "\n",
        "    # return the ImSim instance. With this class instance, you can compute all the\n",
        "    # modelling accessible of the core modules. See class documentation and other notebooks.\n",
        "    imSim_g = sim_g.image_model_class(kwargs_numerics)\n",
        "\n",
        "    source_scale = 0.015#25\n",
        "\n",
        "    X,Y = source_pos_xx, source_pos_yy\n",
        "\n",
        "    # g-band\n",
        "    # lens light\n",
        "    image_data_g = image_galaxy.astype(float)\n",
        "    median_g = np.median(image_galaxy[:50, :50].astype(float))\n",
        "    image_data_g -= median_g\n",
        "\n",
        "    #kwargs_lens_light_mag_g = [{'magnitude': 16, 'image': image_gauss, 'scale': lens_scale, 'phi_G': 0, 'center_x': 0., 'center_y': 0}]\n",
        "    # lens light\n",
        "    kwargs_lens_light_mag_g = [{'magnitude':40, 'R_sersic': 0.4, 'n_sersic': 2.3, 'e1': 0, 'e2': 0.05, 'center_x': 0, 'center_y': 0},\n",
        "    {'magnitude': 40, 'R_sersic': 1.5, 'n_sersic': 1.2, 'e1': 0, 'e2': 0.3, 'center_x': 0, 'center_y': 0}]\n",
        "    kwargs_source_mag_g = [{'magnitude': np.random.normal(16,0.1), 'image': image_data_g, 'scale': source_scale, 'phi_G': source_ang, 'center_x': X, 'center_y': Y}]\n",
        "\n",
        "    # and now we define the colors of the other two bands\n",
        "\n",
        "    # turn magnitude kwargs into lenstronomy kwargs\n",
        "    kwargs_lens_light_g, kwargs_source_g,_ = sim_g.magnitude2amplitude(kwargs_lens_light_mag_g, kwargs_source_mag_g)\n",
        "\n",
        "    #added then removed by me\n",
        "    #kwargs_lens = sim_g.physical2lensing_conversion(kwargs_mass=kwargs_mass)\n",
        "    image_g = imSim_g.image(kwargs_lens, kwargs_source_g, kwargs_lens_light_g)\n",
        "\n",
        "    # add noise\n",
        "    image_g += sim_g.noise_for_model(model=image_g)\n",
        "\n",
        "    # save to output\n",
        "    #img = np.zeros((image_g.shape[0], image_g.shape[1], 3), dtype=float)\n",
        "    #img[:,:,0] = image_g#plot_util.sqrt(image_g, scale_min=0, scale_max=100)\n",
        "\n",
        "    return image_g, realizationsCDM\n",
        "\n",
        "\n",
        "def simulator_model_cdm(img_zp1,return_points=False):\n",
        "\n",
        "    index = np.random.randint(0,len(img_zp1))\n",
        "\n",
        "    Ens,source_pos_xx,source_pos_yy, source_ang = np.random.normal(1.5,.5), np.random.uniform(-0.4,0.4), np.random.uniform(-0.4,0.4), np.random.uniform(-np.pi,np.pi)\n",
        "\n",
        "    # Calculate the 2d mask\n",
        "    x = np.linspace(-128, 128, 256)\n",
        "    y = np.linspace(-128, 128, 256)\n",
        "\n",
        "    # Convolve galaxy with a Gaussian filter to remove some noise\n",
        "    result = gaussian_filter(img_zp1[index][:,:,0], sigma=3)\n",
        "\n",
        "    \"\"\"\n",
        "    # Fit two Gaussians to the image compressed down the x and y axis. This will serve to infer the filter we will use.\n",
        "    axis_0 = np.sum(result,axis=0)\n",
        "    axis_0 = axis_0/np.max(axis_0)\n",
        "    axis_1 = np.sum(result,axis=1)\n",
        "    axis_1 = axis_1/np.max(axis_1)\n",
        "\n",
        "    # Fit the Gaussians\n",
        "    popt_0, pcov_0 = curve_fit(Gauss, x, axis_0, p0=[np.min(axis_0), np.max(axis_0), 0, 30], bounds=([0.,0.,-10.,10.], [1., 1.,10.,40]))\n",
        "    popt_1, pcov_1 = curve_fit(Gauss, y, axis_1, p0=[np.min(axis_1), np.max(axis_1), 0, 30], bounds=([0.,0.,-10.,10.], [1., 1.,10.,40]))\n",
        "    _,_,mu_0,std_0 = popt_0\n",
        "    _,_,mu_1,std_1 = popt_1\n",
        "    \"\"\"\n",
        "    mx, my, sx, sy = 0, 0, 25, 25\n",
        "\n",
        "    # full coorindate arrays\n",
        "    xx, yy = np.meshgrid(x, y)\n",
        "    zz = gaus2d(x=xx,y=yy,mx=mx, my=my,sx=sx, sy=sy)\n",
        "\n",
        "    \"\"\"\n",
        "    plt.figure(figsize=(10,5))\n",
        "    plt.subplot(1,2,1)\n",
        "    plt.imshow(result)\n",
        "    plt.subplot(1,2,2)\n",
        "    plt.imshow(zz*result)\n",
        "    plt.show()\"\"\"\n",
        "\n",
        "    sim, realizationsCDM = simulate_cdm(result,Ens,source_pos_xx,source_pos_yy,source_ang)\n",
        "\n",
        "\n",
        "\n",
        "    \"\"\"\n",
        "    plt.figure(figsize=(6,6))\n",
        "    plt.imshow(sim)\n",
        "    plt.show()\"\"\"\n",
        "\n",
        "    # fix this, just temp fix to be between 0,1\n",
        "    return np.absolute(sim), zz*result, result\n",
        "\n",
        "def simulate_image_cdm(img_zp1):\n",
        "    sim, mask, orig = simulator_model_cdm(img_zp1)\n",
        "    return np.array(sim).clip(min=0)"
      ]
    },
    {
      "cell_type": "code",
      "execution_count": null,
      "metadata": {
        "id": "bOJ1LBzEvGHA"
      },
      "outputs": [],
      "source": [
        "images_ref = images\n",
        "z_ref = z\n",
        "indx_img_zp1 = np.where(z_ref < 1)\n",
        "img_zp1 = images_ref[indx_img_zp1]"
      ]
    },
    {
      "cell_type": "code",
      "execution_count": null,
      "metadata": {
        "colab": {
          "base_uri": "https://localhost:8080/",
          "height": 450
        },
        "id": "WLSexze0u5ZA",
        "outputId": "2b9d8f7e-470e-431f-8ff8-2133bfaa63ab"
      },
      "outputs": [
        {
          "output_type": "execute_result",
          "data": {
            "text/plain": [
              "<matplotlib.image.AxesImage at 0x7b639bd201c0>"
            ]
          },
          "metadata": {},
          "execution_count": 15
        },
        {
          "output_type": "display_data",
          "data": {
            "text/plain": [
              "<Figure size 640x480 with 1 Axes>"
            ],
            "image/png": "[encoded data removed]"
          },
          "metadata": {}
        }
      ],
      "source": [
        "plt.imshow(simulate_image_cdm(img_zp1),cmap='inferno')"
      ]
    },
    {
      "cell_type": "markdown",
      "metadata": {
        "id": "qyKz7tv6bPs6"
      },
      "source": [
        "# Creating dataset"
      ]
    },
    {
      "cell_type": "markdown",
      "source": [
        "Run the Cells bellow to generate the dataset without ULDM interface:"
      ],
      "metadata": {
        "id": "oJJSj-unHjxt"
      }
    },
    {
      "cell_type": "code",
      "execution_count": null,
      "metadata": {
        "id": "_gYumJVycmLG"
      },
      "outputs": [],
      "source": [
        "data = []\n",
        "labels = []"
      ]
    },
    {
      "cell_type": "code",
      "execution_count": null,
      "metadata": {
        "id": "LG4M5Rz7s-oN"
      },
      "outputs": [],
      "source": [
        "data_path = '../data/Real-Galaxy-Tiny Dataset'"
      ]
    },
    {
      "cell_type": "code",
      "execution_count": null,
      "metadata": {
        "id": "wb-wdBRIr3zz"
      },
      "outputs": [],
      "source": [
        "def save_list_as_numpy_array(lst, path):\n",
        "    \"\"\"\n",
        "    Save a list as a numpy array to the given path.\n",
        "\n",
        "    Args:\n",
        "        lst (list): The list to be saved.\n",
        "        path (str): The path where the numpy array should be saved.\n",
        "\n",
        "    Returns:\n",
        "        None\n",
        "    \"\"\"\n",
        "    np_array = np.array(lst)\n",
        "    np.save(path, np_array)"
      ]
    },
    {
      "cell_type": "code",
      "execution_count": null,
      "metadata": {
        "colab": {
          "base_uri": "https://localhost:8080/"
        },
        "id": "pB8XOi6obPT8",
        "outputId": "33988730-c36a-4264-863b-cbaaf9bc640b"
      },
      "outputs": [
        {
          "output_type": "stream",
          "name": "stderr",
          "text": [
            "100%|██████████| 500/500 [3:30:45<00:00, 25.29s/it]\n"
          ]
        }
      ],
      "source": [
        "from IPython.display import clear_output\n",
        "\n",
        "for kind in ('train','test'):\n",
        "  for i in tqdm(range(500)):\n",
        "\n",
        "      no_sub = simulate_image_no_sub(img_zp1)\n",
        "      no_sub = no_sub/np.max(no_sub)\n",
        "\n",
        "      cdm = simulate_image_cdm(img_zp1)\n",
        "      cdm = cdm/np.max(cdm)\n",
        "\n",
        "      data.append(no_sub.reshape(64,64))\n",
        "      labels.append([1,0])\n",
        "      data.append(cdm.reshape(64,64))\n",
        "      labels.append([0,1])\n",
        "\n",
        "      if i%10==0:\n",
        "        save_list_as_numpy_array(data,f'{data_path}/data_{kind}.npy')\n",
        "        save_list_as_numpy_array(labels,f'{data_path}/labels_{kind}.npy')\n",
        "\n",
        "  save_list_as_numpy_array(data,f'{data_path}/data_{kind}.npy')\n",
        "  save_list_as_numpy_array(labels,f'{data_path}/labels_{kind}.npy')\n",
        "  clear_output()"
      ]
    }
  ],
  "metadata": {
    "colab": {
      "collapsed_sections": [
        "Q_HDuQlefXXE"
      ],
      "machine_shape": "hm",
      "provenance": [],
      "mount_file_id": "1N_HelvivyucZ9uijOtGhM4llK3HdVlcX",
      "authorship_tag": "ABX9TyMuGcRyzM5/Vn8tumGjvwCq",
      "include_colab_link": true
    },
    "kernelspec": {
      "display_name": "Python 3",
      "name": "python3"
    },
    "language_info": {
      "name": "python"
    }
  },
  "nbformat": 4,
  "nbformat_minor": 0
}